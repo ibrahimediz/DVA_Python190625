{
 "cells": [
  {
   "cell_type": "markdown",
   "id": "1efba749",
   "metadata": {},
   "source": [
    "# Fonkisyonlar\n",
    "* Tanımlama\n",
    "* Çağırma\n",
    "* return"
   ]
  },
  {
   "cell_type": "code",
   "execution_count": 1,
   "id": "1b721d61",
   "metadata": {},
   "outputs": [],
   "source": [
    "def fonk(): # tanımlama\n",
    "    print(\"Merhaba\")"
   ]
  },
  {
   "cell_type": "code",
   "execution_count": 2,
   "id": "c68bf6d0",
   "metadata": {},
   "outputs": [
    {
     "name": "stdout",
     "output_type": "stream",
     "text": [
      "Merhaba\n"
     ]
    }
   ],
   "source": [
    "fonk()"
   ]
  },
  {
   "cell_type": "code",
   "execution_count": 3,
   "id": "107e4003",
   "metadata": {},
   "outputs": [
    {
     "data": {
      "text/plain": [
       "function"
      ]
     },
     "execution_count": 3,
     "metadata": {},
     "output_type": "execute_result"
    }
   ],
   "source": [
    "type(fonk)"
   ]
  },
  {
   "cell_type": "code",
   "execution_count": 4,
   "id": "041f3202",
   "metadata": {},
   "outputs": [
    {
     "name": "stdout",
     "output_type": "stream",
     "text": [
      "Merhaba\n"
     ]
    },
    {
     "data": {
      "text/plain": [
       "NoneType"
      ]
     },
     "execution_count": 4,
     "metadata": {},
     "output_type": "execute_result"
    }
   ],
   "source": [
    "type(fonk())"
   ]
  },
  {
   "cell_type": "code",
   "execution_count": 5,
   "id": "a6ebced1",
   "metadata": {},
   "outputs": [],
   "source": [
    "def fonk():\n",
    "    return \"Merhaba\"\n"
   ]
  },
  {
   "cell_type": "code",
   "execution_count": 6,
   "id": "432c3121",
   "metadata": {},
   "outputs": [
    {
     "data": {
      "text/plain": [
       "str"
      ]
     },
     "execution_count": 6,
     "metadata": {},
     "output_type": "execute_result"
    }
   ],
   "source": [
    "type(fonk())"
   ]
  },
  {
   "cell_type": "code",
   "execution_count": null,
   "id": "8d535148",
   "metadata": {},
   "outputs": [],
   "source": []
  }
 ],
 "metadata": {
  "kernelspec": {
   "display_name": "Python 3",
   "language": "python",
   "name": "python3"
  },
  "language_info": {
   "codemirror_mode": {
    "name": "ipython",
    "version": 3
   },
   "file_extension": ".py",
   "mimetype": "text/x-python",
   "name": "python",
   "nbconvert_exporter": "python",
   "pygments_lexer": "ipython3",
   "version": "3.12.10"
  }
 },
 "nbformat": 4,
 "nbformat_minor": 5
}
