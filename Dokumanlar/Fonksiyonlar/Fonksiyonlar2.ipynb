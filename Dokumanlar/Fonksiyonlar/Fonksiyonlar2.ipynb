{
 "cells": [
  {
   "cell_type": "markdown",
   "id": "d1d4eb25",
   "metadata": {},
   "source": [
    "# Fonksiyonlar 2\n",
    "* Parametre Tanımlama\n",
    "* `*args`\n",
    "* `**kwargs`"
   ]
  },
  {
   "cell_type": "code",
   "execution_count": null,
   "id": "af5c31eb",
   "metadata": {},
   "outputs": [
    {
     "name": "stdout",
     "output_type": "stream",
     "text": [
      "<class 'int'>\n",
      "<class 'str'>\n"
     ]
    }
   ],
   "source": [
    "def fonk(a,b):\n",
    "    return a+b\n",
    "print(type(fonk(1,2)))\n",
    "print(type(fonk(\"2\",\"3\")))"
   ]
  },
  {
   "cell_type": "code",
   "execution_count": 3,
   "id": "32de4020",
   "metadata": {},
   "outputs": [],
   "source": [
    "def fonk(a,b,c=0):\n",
    "    return a+b+c"
   ]
  },
  {
   "cell_type": "code",
   "execution_count": 4,
   "id": "9731857b",
   "metadata": {},
   "outputs": [],
   "source": [
    "def fonk(a,b,c=0,d=0):\n",
    "    return a+b+c+d"
   ]
  },
  {
   "cell_type": "code",
   "execution_count": 6,
   "id": "ac07c059",
   "metadata": {},
   "outputs": [
    {
     "data": {
      "text/plain": [
       "5"
      ]
     },
     "execution_count": 6,
     "metadata": {},
     "output_type": "execute_result"
    }
   ],
   "source": [
    "fonk(a=2,b=3)"
   ]
  },
  {
   "cell_type": "code",
   "execution_count": 8,
   "id": "16ed4ada",
   "metadata": {},
   "outputs": [
    {
     "data": {
      "text/plain": [
       "(1, 2, 3, 4)"
      ]
     },
     "execution_count": 8,
     "metadata": {},
     "output_type": "execute_result"
    }
   ],
   "source": [
    "var1 = 1,2,3,4\n",
    "var1"
   ]
  },
  {
   "cell_type": "code",
   "execution_count": 10,
   "id": "152f64e9",
   "metadata": {},
   "outputs": [
    {
     "name": "stdout",
     "output_type": "stream",
     "text": [
      "3\n",
      "5\n"
     ]
    }
   ],
   "source": [
    "a = b = 1\n",
    "a,b = b,(a+b)\n",
    "print(a+b)\n",
    "a,b = b,(a+b)\n",
    "print(a+b)"
   ]
  },
  {
   "cell_type": "code",
   "execution_count": 18,
   "id": "6a7a749d",
   "metadata": {},
   "outputs": [
    {
     "data": {
      "text/plain": [
       "(1, 2, 3, 4, 5, 6)"
      ]
     },
     "execution_count": 18,
     "metadata": {},
     "output_type": "execute_result"
    }
   ],
   "source": [
    "def fonk(a,b,/,c,d,*,e,f):\n",
    "    return a,b,c,d,e,f\n",
    "fonk(1,2,c=3,d=4,e=5,f=6)"
   ]
  },
  {
   "cell_type": "code",
   "execution_count": 19,
   "id": "d8579934",
   "metadata": {},
   "outputs": [],
   "source": [
    "# *args\n",
    "def fonk(*args):\n",
    "    print(args)\n",
    "    print(type(args))\n"
   ]
  },
  {
   "cell_type": "code",
   "execution_count": 20,
   "id": "4f9af2a2",
   "metadata": {},
   "outputs": [
    {
     "name": "stdout",
     "output_type": "stream",
     "text": [
      "()\n",
      "<class 'tuple'>\n",
      "(1, 2, 3, 4)\n",
      "<class 'tuple'>\n",
      "(1, 2)\n",
      "<class 'tuple'>\n"
     ]
    }
   ],
   "source": [
    "fonk()\n",
    "fonk(1,2,3,4,)\n",
    "fonk(1,2)"
   ]
  },
  {
   "cell_type": "code",
   "execution_count": 21,
   "id": "6ae337bd",
   "metadata": {},
   "outputs": [],
   "source": [
    "# **kwargs\n",
    "def fonk(**kwargs):\n",
    "    print(kwargs)\n",
    "    print(type(kwargs))\n"
   ]
  },
  {
   "cell_type": "code",
   "execution_count": 22,
   "id": "6b4fa514",
   "metadata": {},
   "outputs": [
    {
     "name": "stdout",
     "output_type": "stream",
     "text": [
      "{}\n",
      "<class 'dict'>\n",
      "{'selam': 'DVA'}\n",
      "<class 'dict'>\n"
     ]
    }
   ],
   "source": [
    "fonk()\n",
    "fonk(selam=\"DVA\")"
   ]
  },
  {
   "cell_type": "code",
   "execution_count": 24,
   "id": "94aed42c",
   "metadata": {},
   "outputs": [
    {
     "name": "stdout",
     "output_type": "stream",
     "text": [
      "1 2\n",
      "(3, 4, 5, 6, 7, 8)\n",
      "{'param1': 3}\n"
     ]
    }
   ],
   "source": [
    "def fonk(a,b,*args,**kwargs):\n",
    "    print(a,b)\n",
    "    print(args)\n",
    "    print(kwargs)\n",
    "fonk(1,2,3,4,5,6,7,8,param1=3)"
   ]
  },
  {
   "cell_type": "code",
   "execution_count": 25,
   "id": "36a060a0",
   "metadata": {},
   "outputs": [
    {
     "data": {
      "text/plain": [
       "10"
      ]
     },
     "execution_count": 25,
     "metadata": {},
     "output_type": "execute_result"
    }
   ],
   "source": [
    "def toplama(*args):\n",
    "    sonuc = 0\n",
    "    for item in args:\n",
    "        if type(item) in [int,float]:\n",
    "            sonuc += item\n",
    "    return sonuc\n",
    "toplama(1,2,3,4,\"5\")"
   ]
  },
  {
   "cell_type": "code",
   "execution_count": 27,
   "id": "95aa0c01",
   "metadata": {},
   "outputs": [
    {
     "name": "stdout",
     "output_type": "stream",
     "text": [
      "+\n"
     ]
    }
   ],
   "source": [
    "def islem(**kwargs):\n",
    "    for key,value in kwargs.items():\n",
    "        if key == \"islem\":\n",
    "            print(value)\n",
    "islem(islem=\"+\")"
   ]
  },
  {
   "cell_type": "code",
   "execution_count": 28,
   "id": "612b466a",
   "metadata": {},
   "outputs": [
    {
     "data": {
      "text/plain": [
       "10"
      ]
     },
     "execution_count": 28,
     "metadata": {},
     "output_type": "execute_result"
    }
   ],
   "source": [
    "def toplama(*args):\n",
    "    return sum([item for item in args if type(item) in [int,float]])\n",
    "toplama(1,2,3,4,\"5\")"
   ]
  },
  {
   "cell_type": "code",
   "execution_count": 30,
   "id": "f25ba431",
   "metadata": {},
   "outputs": [
    {
     "data": {
      "text/plain": [
       "{0: 0, 1: 1, 2: 4, 3: 9, 4: 16}"
      ]
     },
     "execution_count": 30,
     "metadata": {},
     "output_type": "execute_result"
    }
   ],
   "source": [
    "sozluk = {item:item**2 for item in range(5)}\n",
    "sozluk"
   ]
  },
  {
   "cell_type": "code",
   "execution_count": null,
   "id": "167f5698",
   "metadata": {},
   "outputs": [],
   "source": []
  }
 ],
 "metadata": {
  "kernelspec": {
   "display_name": "Python 3",
   "language": "python",
   "name": "python3"
  },
  "language_info": {
   "codemirror_mode": {
    "name": "ipython",
    "version": 3
   },
   "file_extension": ".py",
   "mimetype": "text/x-python",
   "name": "python",
   "nbconvert_exporter": "python",
   "pygments_lexer": "ipython3",
   "version": "3.12.10"
  }
 },
 "nbformat": 4,
 "nbformat_minor": 5
}
