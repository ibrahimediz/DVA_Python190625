{
 "cells": [
  {
   "cell_type": "markdown",
   "id": "dc3ae640",
   "metadata": {},
   "source": [
    "# Fonksiyonlar\n",
    "* yield\n",
    "* lambda\n",
    "* decorator\n",
    "* built-inst\n",
    "* recursion"
   ]
  },
  {
   "cell_type": "code",
   "execution_count": 1,
   "id": "e943b2bf",
   "metadata": {},
   "outputs": [
    {
     "name": "stdout",
     "output_type": "stream",
     "text": [
      "<class 'int'>\n"
     ]
    }
   ],
   "source": [
    "# yield\n",
    "def fonk(a,b):\n",
    "    return a+b\n",
    "print(type(fonk(2,3)))"
   ]
  },
  {
   "cell_type": "code",
   "execution_count": 2,
   "id": "f2d9a6ba",
   "metadata": {},
   "outputs": [
    {
     "data": {
      "text/plain": [
       "generator"
      ]
     },
     "execution_count": 2,
     "metadata": {},
     "output_type": "execute_result"
    }
   ],
   "source": [
    "def fonk(a,b):\n",
    "    while a < b:\n",
    "        yield a\n",
    "        a += 1\n",
    "type(fonk(2,3))"
   ]
  },
  {
   "cell_type": "code",
   "execution_count": 3,
   "id": "de0aa5b3",
   "metadata": {},
   "outputs": [
    {
     "data": {
      "text/plain": [
       "generator"
      ]
     },
     "execution_count": 3,
     "metadata": {},
     "output_type": "execute_result"
    }
   ],
   "source": [
    "def fonk(a,b,c=1):\n",
    "    while a < b:\n",
    "        yield a\n",
    "        a += c\n",
    "type(fonk(2,3))"
   ]
  },
  {
   "cell_type": "code",
   "execution_count": 5,
   "id": "f3cd8acb",
   "metadata": {},
   "outputs": [
    {
     "name": "stdout",
     "output_type": "stream",
     "text": [
      "3 4 5 6 7\n"
     ]
    }
   ],
   "source": [
    "print(*fonk(3,8))"
   ]
  },
  {
   "cell_type": "code",
   "execution_count": 6,
   "id": "e649e27d",
   "metadata": {},
   "outputs": [
    {
     "name": "stdout",
     "output_type": "stream",
     "text": [
      "3\n",
      "4\n",
      "5\n",
      "6\n",
      "7\n"
     ]
    }
   ],
   "source": [
    "for item in fonk(3,8):\n",
    "    print(item)"
   ]
  },
  {
   "cell_type": "code",
   "execution_count": 8,
   "id": "16e53f6f",
   "metadata": {},
   "outputs": [
    {
     "data": {
      "text/plain": [
       "3"
      ]
     },
     "execution_count": 8,
     "metadata": {},
     "output_type": "execute_result"
    }
   ],
   "source": [
    "obj = iter(fonk(3,8))\n",
    "next(obj)"
   ]
  },
  {
   "cell_type": "code",
   "execution_count": 9,
   "id": "9f8521b5",
   "metadata": {},
   "outputs": [
    {
     "data": {
      "text/plain": [
       "4"
      ]
     },
     "execution_count": 9,
     "metadata": {},
     "output_type": "execute_result"
    }
   ],
   "source": [
    "next(obj)"
   ]
  },
  {
   "cell_type": "markdown",
   "id": "b797bdef",
   "metadata": {},
   "source": [
    "## lambda"
   ]
  },
  {
   "cell_type": "code",
   "execution_count": 1,
   "id": "14f53cf1",
   "metadata": {},
   "outputs": [
    {
     "name": "stdout",
     "output_type": "stream",
     "text": [
      "<class 'function'>\n"
     ]
    }
   ],
   "source": [
    "def fonk(a,b):\n",
    "    return a + b \n",
    "fonk = lambda a,b: a + b\n",
    "print(type(fonk))"
   ]
  },
  {
   "cell_type": "code",
   "execution_count": 4,
   "id": "5d24ebe1",
   "metadata": {},
   "outputs": [
    {
     "name": "stdout",
     "output_type": "stream",
     "text": [
      "[54, 43, 32, 12, 12, 9, 8]\n"
     ]
    }
   ],
   "source": [
    "liste = [12,32,43,54,12,8,9]\n",
    "liste.sort(reverse=True)\n",
    "print(liste)"
   ]
  },
  {
   "cell_type": "code",
   "execution_count": 5,
   "id": "602e1510",
   "metadata": {},
   "outputs": [
    {
     "name": "stdout",
     "output_type": "stream",
     "text": [
      "['ali', 'ayşe', 'fatma', 'osman', 'veli', 'zeynep', 'çiğdem', 'ömer', 'şermin']\n"
     ]
    }
   ],
   "source": [
    "liste = [\"ayşe\", \"fatma\", \"ali\", \"veli\", \"zeynep\", \"çiğdem\",\"şermin\",\"ömer\",\"osman\"]\n",
    "liste.sort()\n",
    "print(liste)"
   ]
  },
  {
   "cell_type": "code",
   "execution_count": 6,
   "id": "9111ab2d",
   "metadata": {},
   "outputs": [
    {
     "data": {
      "text/plain": [
       "['ali', 'ayşe', 'çiğdem', 'fatma', 'osman', 'ömer', 'şermin', 'veli', 'zeynep']"
      ]
     },
     "execution_count": 6,
     "metadata": {},
     "output_type": "execute_result"
    }
   ],
   "source": [
    "alfabe = \"abcçdefgğhıijklmnoöprsştuüvyz\"\n",
    "cevrim = {item : alfabe.index(item) for item in alfabe}\n",
    "sorted(liste,key=lambda x: cevrim.get(x[0]))"
   ]
  },
  {
   "cell_type": "code",
   "execution_count": 13,
   "id": "20d8c525",
   "metadata": {},
   "outputs": [
    {
     "name": "stdout",
     "output_type": "stream",
     "text": [
      "çiğdem\n"
     ]
    },
    {
     "data": {
      "text/plain": [
       "3"
      ]
     },
     "execution_count": 13,
     "metadata": {},
     "output_type": "execute_result"
    }
   ],
   "source": [
    "x = liste[6]\n",
    "print(x)\n",
    "cevrim.get(x[0])"
   ]
  },
  {
   "cell_type": "markdown",
   "id": "27b2bdfa",
   "metadata": {},
   "source": [
    "## decorators"
   ]
  },
  {
   "cell_type": "code",
   "execution_count": 15,
   "id": "4d9e62a7",
   "metadata": {},
   "outputs": [
    {
     "name": "stdout",
     "output_type": "stream",
     "text": [
      "120\n",
      "120\n"
     ]
    },
    {
     "data": {
      "text/plain": [
       "120"
      ]
     },
     "execution_count": 15,
     "metadata": {},
     "output_type": "execute_result"
    }
   ],
   "source": [
    "def faktoryel1(n):\n",
    "    import math\n",
    "    print(math.factorial(n))\n",
    "\n",
    "def faktoryel2(n):\n",
    "    if n == 0:\n",
    "        return 1\n",
    "    else:\n",
    "        return n * faktoryel2(n-1)\n",
    "\n",
    "def faktoryel3(n):\n",
    "    if n == 0:\n",
    "        return 1\n",
    "    else:\n",
    "        f = 1\n",
    "        for i in range(1,n+1):\n",
    "            f *= i\n",
    "        return f\n",
    "    \n",
    "faktoryel1(5)\n",
    "print(faktoryel2(5))\n",
    "faktoryel3(5)"
   ]
  },
  {
   "cell_type": "code",
   "execution_count": 19,
   "id": "59b1d0c0",
   "metadata": {},
   "outputs": [
    {
     "name": "stdout",
     "output_type": "stream",
     "text": [
      "Fonksiyonun çalışma süresi: 1.005059003829956 saniye\n",
      "120\n",
      "Fonksiyonun çalışma süresi: 1.0039801597595215 saniye\n",
      "120\n"
     ]
    }
   ],
   "source": [
    "def zaman(fonk):\n",
    "    import time\n",
    "    def wrapper(*args, **kwargs):\n",
    "        basla = time.time()\n",
    "        time.sleep(1)\n",
    "        sonuc = fonk(*args, **kwargs)\n",
    "        bitir = time.time()\n",
    "        print(f\"Fonksiyonun çalışma süresi: {bitir - basla} saniye\")\n",
    "        return sonuc\n",
    "    return wrapper\n",
    "\n",
    "\n",
    "\n",
    "@zaman\n",
    "def faktoryel4(n):\n",
    "    if n == 0:\n",
    "        return 1\n",
    "    else:\n",
    "        f = 1\n",
    "        for i in range(1,n+1):\n",
    "            f *= i\n",
    "        return f\n",
    "\n",
    "print(faktoryel4(5))\n",
    "\n",
    "@zaman\n",
    "def faktoryel6(n):\n",
    "    import math\n",
    "    return math.factorial(n)\n",
    "print(faktoryel6(5))\n"
   ]
  },
  {
   "cell_type": "markdown",
   "id": "c651f0f6",
   "metadata": {},
   "source": [
    "## built ins\n",
    "* map\n",
    "* filter\n",
    "* any,all\n",
    "* zip\n",
    "* eval,exec\n",
    "* enumerate"
   ]
  },
  {
   "cell_type": "code",
   "execution_count": 3,
   "id": "cc0e7d22",
   "metadata": {},
   "outputs": [
    {
     "data": {
      "text/plain": [
       "[12, 32, 54, 12, 8]"
      ]
     },
     "execution_count": 3,
     "metadata": {},
     "output_type": "execute_result"
    }
   ],
   "source": [
    "# filter\n",
    "liste = [12,32,43,54,12,8,9]\n",
    "list(filter(lambda x: not x % 2,liste))\n",
    "\n",
    "# listeleden çift sayıların ayrıştırılması için filter fonksiyonunun kullanımı"
   ]
  },
  {
   "cell_type": "code",
   "execution_count": 5,
   "id": "bce56969",
   "metadata": {},
   "outputs": [
    {
     "data": {
      "text/plain": [
       "' '"
      ]
     },
     "execution_count": 5,
     "metadata": {},
     "output_type": "execute_result"
    }
   ],
   "source": [
    "chr(32)"
   ]
  },
  {
   "cell_type": "code",
   "execution_count": 6,
   "id": "0a679fdc",
   "metadata": {},
   "outputs": [
    {
     "name": "stdout",
     "output_type": "stream",
     "text": [
      "[44, 54, 45, 55, 44, 40, 41]\n",
      "[',', '6', '-', '7', ',', '(', ')']\n"
     ]
    }
   ],
   "source": [
    "liste = [12,22,13,23,12,8,9]\n",
    "liste = list(map(lambda x:x+32,liste))\n",
    "print(liste)\n",
    "print(list(map(chr,liste)))"
   ]
  },
  {
   "cell_type": "code",
   "execution_count": 8,
   "id": "de93e399",
   "metadata": {},
   "outputs": [
    {
     "name": "stdout",
     "output_type": "stream",
     "text": [
      "False\n"
     ]
    }
   ],
   "source": [
    "if 0:\n",
    "    print(\"True\")\n",
    "else:\n",
    "    print(\"False\")"
   ]
  },
  {
   "cell_type": "code",
   "execution_count": 10,
   "id": "5bf7c71c",
   "metadata": {},
   "outputs": [
    {
     "name": "stdout",
     "output_type": "stream",
     "text": [
      "False\n",
      "True\n"
     ]
    }
   ],
   "source": [
    "liste= [1,1,1,1,1,1,1,0,1,1,1,1,1,]\n",
    "\n",
    "print(all(liste))\n",
    "print(any(liste))"
   ]
  },
  {
   "cell_type": "code",
   "execution_count": 11,
   "id": "74e1f304",
   "metadata": {},
   "outputs": [
    {
     "name": "stdout",
     "output_type": "stream",
     "text": [
      "True\n",
      "True\n"
     ]
    }
   ],
   "source": [
    "liste= [1,1,1,1,1,1,1,1,1,1,1,1,1,]\n",
    "\n",
    "print(all(liste))\n",
    "print(any(liste))"
   ]
  },
  {
   "cell_type": "code",
   "execution_count": 14,
   "id": "ba58773d",
   "metadata": {},
   "outputs": [
    {
     "name": "stdout",
     "output_type": "stream",
     "text": [
      "False\n",
      "False\n"
     ]
    }
   ],
   "source": [
    "liste= [0,0,0,0,0,0,0,0,0,0,0,0,0,]\n",
    "\n",
    "print(all(liste))\n",
    "print(any(liste))"
   ]
  },
  {
   "cell_type": "code",
   "execution_count": 22,
   "id": "ef91dbc1",
   "metadata": {},
   "outputs": [
    {
     "name": "stdout",
     "output_type": "stream",
     "text": [
      "{'ali': 'ankara', 'ayşe': 'istanbul', 'fatma': 'izmir', 'veli': 'antalya', 'şermin': 'bursa'}\n"
     ]
    }
   ],
   "source": [
    "l1 = [\"ankara\",\"istanbul\",\"izmir\",\"antalya\",\"bursa\"]\n",
    "l2 = [\"ali\",\"ayşe\",\"fatma\",\"veli\",\"şermin\"]\n",
    "list(zip(l2,l1))\n",
    "sozluk = {}\n",
    "sozluk.update(zip(l2,l1))\n",
    "print(sozluk)"
   ]
  },
  {
   "cell_type": "code",
   "execution_count": 27,
   "id": "5d545058",
   "metadata": {},
   "outputs": [
    {
     "data": {
      "text/plain": [
       "[('ali', 'ayşe', 'fatma', 'veli', 'şermin'),\n",
       " ('ankara', 'istanbul', 'izmir', 'antalya', 'bursa')]"
      ]
     },
     "execution_count": 27,
     "metadata": {},
     "output_type": "execute_result"
    }
   ],
   "source": [
    "list(zip(*zip(l2,l1)))"
   ]
  },
  {
   "cell_type": "code",
   "execution_count": 32,
   "id": "6b9b4140",
   "metadata": {},
   "outputs": [
    {
     "ename": "ValueError",
     "evalue": "zip() argument 2 is shorter than argument 1",
     "output_type": "error",
     "traceback": [
      "\u001b[0;31m---------------------------------------------------------------------------\u001b[0m",
      "\u001b[0;31mValueError\u001b[0m                                Traceback (most recent call last)",
      "Cell \u001b[0;32mIn[32], line 3\u001b[0m\n\u001b[1;32m      1\u001b[0m l1 \u001b[38;5;241m=\u001b[39m [\u001b[38;5;124m\"\u001b[39m\u001b[38;5;124mankara\u001b[39m\u001b[38;5;124m\"\u001b[39m,\u001b[38;5;124m\"\u001b[39m\u001b[38;5;124mistanbul\u001b[39m\u001b[38;5;124m\"\u001b[39m,\u001b[38;5;124m\"\u001b[39m\u001b[38;5;124mizmir\u001b[39m\u001b[38;5;124m\"\u001b[39m,\u001b[38;5;124m\"\u001b[39m\u001b[38;5;124mantalya\u001b[39m\u001b[38;5;124m\"\u001b[39m,\u001b[38;5;124m\"\u001b[39m\u001b[38;5;124mbursa\u001b[39m\u001b[38;5;124m\"\u001b[39m]\n\u001b[1;32m      2\u001b[0m l2 \u001b[38;5;241m=\u001b[39m [\u001b[38;5;124m\"\u001b[39m\u001b[38;5;124mali\u001b[39m\u001b[38;5;124m\"\u001b[39m,\u001b[38;5;124m\"\u001b[39m\u001b[38;5;124mayşe\u001b[39m\u001b[38;5;124m\"\u001b[39m,\u001b[38;5;124m\"\u001b[39m\u001b[38;5;124mfatma\u001b[39m\u001b[38;5;124m\"\u001b[39m,\u001b[38;5;124m\"\u001b[39m\u001b[38;5;124mveli\u001b[39m\u001b[38;5;124m\"\u001b[39m,\u001b[38;5;124m\"\u001b[39m\u001b[38;5;124mşermin\u001b[39m\u001b[38;5;124m\"\u001b[39m,\u001b[38;5;124m\"\u001b[39m\u001b[38;5;124mahmet\u001b[39m\u001b[38;5;124m\"\u001b[39m]\n\u001b[0;32m----> 3\u001b[0m \u001b[38;5;28;43mlist\u001b[39;49m\u001b[43m(\u001b[49m\u001b[38;5;28;43mzip\u001b[39;49m\u001b[43m(\u001b[49m\u001b[43ml2\u001b[49m\u001b[43m,\u001b[49m\u001b[43ml1\u001b[49m\u001b[43m,\u001b[49m\u001b[43mstrict\u001b[49m\u001b[38;5;241;43m=\u001b[39;49m\u001b[38;5;28;43;01mTrue\u001b[39;49;00m\u001b[43m)\u001b[49m\u001b[43m)\u001b[49m\n",
      "\u001b[0;31mValueError\u001b[0m: zip() argument 2 is shorter than argument 1"
     ]
    }
   ],
   "source": [
    "l1 = [\"ankara\",\"istanbul\",\"izmir\",\"antalya\",\"bursa\"]\n",
    "l2 = [\"ali\",\"ayşe\",\"fatma\",\"veli\",\"şermin\",\"ahmet\"]\n",
    "list(zip(l2,l1,strict=True))"
   ]
  },
  {
   "cell_type": "code",
   "execution_count": 33,
   "id": "6b312bd2",
   "metadata": {},
   "outputs": [
    {
     "data": {
      "text/plain": [
       "5"
      ]
     },
     "execution_count": 33,
     "metadata": {},
     "output_type": "execute_result"
    }
   ],
   "source": [
    "eval(\"2+3\")"
   ]
  },
  {
   "cell_type": "code",
   "execution_count": 34,
   "id": "19f75b40",
   "metadata": {},
   "outputs": [
    {
     "data": {
      "text/plain": [
       "250000"
      ]
     },
     "execution_count": 34,
     "metadata": {},
     "output_type": "execute_result"
    }
   ],
   "source": [
    "eval(\"500*500\")"
   ]
  },
  {
   "cell_type": "code",
   "execution_count": 35,
   "id": "76bfc055",
   "metadata": {},
   "outputs": [],
   "source": [
    "exec(\"degisken=10\")"
   ]
  },
  {
   "cell_type": "code",
   "execution_count": 36,
   "id": "eab0dbea",
   "metadata": {},
   "outputs": [
    {
     "data": {
      "text/plain": [
       "10"
      ]
     },
     "execution_count": 36,
     "metadata": {},
     "output_type": "execute_result"
    }
   ],
   "source": [
    "degisken"
   ]
  },
  {
   "cell_type": "code",
   "execution_count": 37,
   "id": "2701eaaf",
   "metadata": {},
   "outputs": [
    {
     "name": "stdout",
     "output_type": "stream",
     "text": [
      "0\n",
      "1\n",
      "2\n",
      "3\n",
      "4\n"
     ]
    }
   ],
   "source": [
    "kod = \"\"\"\n",
    "for i in range(5):\n",
    "    print(i)\n",
    "\"\"\"\n",
    "exec(kod)"
   ]
  },
  {
   "cell_type": "code",
   "execution_count": 39,
   "id": "c55f0639",
   "metadata": {},
   "outputs": [
    {
     "data": {
      "text/plain": [
       "[(100, 'ali'), (101, 'ayşe'), (102, 'fatma'), (103, 'veli'), (104, 'şermin')]"
      ]
     },
     "execution_count": 39,
     "metadata": {},
     "output_type": "execute_result"
    }
   ],
   "source": [
    "l2 = [\"ali\",\"ayşe\",\"fatma\",\"veli\",\"şermin\"]\n",
    "list(enumerate(l2,start=100))"
   ]
  },
  {
   "cell_type": "markdown",
   "id": "ebd96163",
   "metadata": {},
   "source": [
    "## recursion"
   ]
  },
  {
   "cell_type": "code",
   "execution_count": 42,
   "id": "a77928f4",
   "metadata": {},
   "outputs": [
    {
     "name": "stdout",
     "output_type": "stream",
     "text": [
      "merhaba\n",
      "erhaba\n",
      "rhaba\n",
      "haba\n",
      "aba\n",
      "ba\n",
      "a\n"
     ]
    }
   ],
   "source": [
    "def fonk(metin):\n",
    "    if len(metin) == 1:\n",
    "        print(metin)\n",
    "    else:\n",
    "        print(metin)\n",
    "        fonk(metin[1:])\n",
    "\n",
    "fonk(\"merhaba\")\n"
   ]
  },
  {
   "cell_type": "code",
   "execution_count": 44,
   "id": "acc47eea",
   "metadata": {},
   "outputs": [
    {
     "name": "stdout",
     "output_type": "stream",
     "text": [
      "6765\n"
     ]
    }
   ],
   "source": [
    "def fibo(n):\n",
    "    if n == 0:\n",
    "        return 0\n",
    "    elif n == 1:\n",
    "        return 1\n",
    "    else:\n",
    "        return fibo(n-1) + fibo(n-2)\n",
    "print(fibo(20))"
   ]
  },
  {
   "cell_type": "code",
   "execution_count": null,
   "id": "93cee6fd",
   "metadata": {},
   "outputs": [],
   "source": []
  }
 ],
 "metadata": {
  "kernelspec": {
   "display_name": "Python 3",
   "language": "python",
   "name": "python3"
  },
  "language_info": {
   "codemirror_mode": {
    "name": "ipython",
    "version": 3
   },
   "file_extension": ".py",
   "mimetype": "text/x-python",
   "name": "python",
   "nbconvert_exporter": "python",
   "pygments_lexer": "ipython3",
   "version": "3.12.1"
  }
 },
 "nbformat": 4,
 "nbformat_minor": 5
}
