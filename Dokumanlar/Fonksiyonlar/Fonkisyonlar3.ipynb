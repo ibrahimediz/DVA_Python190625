{
 "cells": [
  {
   "cell_type": "markdown",
   "id": "dc3ae640",
   "metadata": {},
   "source": [
    "# Fonksiyonlar\n",
    "* yield\n",
    "* lambda\n",
    "* decorator\n",
    "* built-inst"
   ]
  },
  {
   "cell_type": "code",
   "execution_count": 1,
   "id": "e943b2bf",
   "metadata": {},
   "outputs": [
    {
     "name": "stdout",
     "output_type": "stream",
     "text": [
      "<class 'int'>\n"
     ]
    }
   ],
   "source": [
    "# yield\n",
    "def fonk(a,b):\n",
    "    return a+b\n",
    "print(type(fonk(2,3)))"
   ]
  },
  {
   "cell_type": "code",
   "execution_count": 2,
   "id": "f2d9a6ba",
   "metadata": {},
   "outputs": [
    {
     "data": {
      "text/plain": [
       "generator"
      ]
     },
     "execution_count": 2,
     "metadata": {},
     "output_type": "execute_result"
    }
   ],
   "source": [
    "def fonk(a,b):\n",
    "    while a < b:\n",
    "        yield a\n",
    "        a += 1\n",
    "type(fonk(2,3))"
   ]
  },
  {
   "cell_type": "code",
   "execution_count": 3,
   "id": "de0aa5b3",
   "metadata": {},
   "outputs": [
    {
     "data": {
      "text/plain": [
       "generator"
      ]
     },
     "execution_count": 3,
     "metadata": {},
     "output_type": "execute_result"
    }
   ],
   "source": [
    "def fonk(a,b,c=1):\n",
    "    while a < b:\n",
    "        yield a\n",
    "        a += c\n",
    "type(fonk(2,3))"
   ]
  },
  {
   "cell_type": "code",
   "execution_count": 5,
   "id": "f3cd8acb",
   "metadata": {},
   "outputs": [
    {
     "name": "stdout",
     "output_type": "stream",
     "text": [
      "3 4 5 6 7\n"
     ]
    }
   ],
   "source": [
    "print(*fonk(3,8))"
   ]
  },
  {
   "cell_type": "code",
   "execution_count": 6,
   "id": "e649e27d",
   "metadata": {},
   "outputs": [
    {
     "name": "stdout",
     "output_type": "stream",
     "text": [
      "3\n",
      "4\n",
      "5\n",
      "6\n",
      "7\n"
     ]
    }
   ],
   "source": [
    "for item in fonk(3,8):\n",
    "    print(item)"
   ]
  },
  {
   "cell_type": "code",
   "execution_count": 8,
   "id": "16e53f6f",
   "metadata": {},
   "outputs": [
    {
     "data": {
      "text/plain": [
       "3"
      ]
     },
     "execution_count": 8,
     "metadata": {},
     "output_type": "execute_result"
    }
   ],
   "source": [
    "obj = iter(fonk(3,8))\n",
    "next(obj)"
   ]
  },
  {
   "cell_type": "code",
   "execution_count": 9,
   "id": "9f8521b5",
   "metadata": {},
   "outputs": [
    {
     "data": {
      "text/plain": [
       "4"
      ]
     },
     "execution_count": 9,
     "metadata": {},
     "output_type": "execute_result"
    }
   ],
   "source": [
    "next(obj)"
   ]
  },
  {
   "cell_type": "code",
   "execution_count": null,
   "id": "14f53cf1",
   "metadata": {},
   "outputs": [],
   "source": []
  }
 ],
 "metadata": {
  "kernelspec": {
   "display_name": "Python 3",
   "language": "python",
   "name": "python3"
  },
  "language_info": {
   "codemirror_mode": {
    "name": "ipython",
    "version": 3
   },
   "file_extension": ".py",
   "mimetype": "text/x-python",
   "name": "python",
   "nbconvert_exporter": "python",
   "pygments_lexer": "ipython3",
   "version": "3.12.10"
  }
 },
 "nbformat": 4,
 "nbformat_minor": 5
}
