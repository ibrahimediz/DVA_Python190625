{
 "cells": [
  {
   "cell_type": "markdown",
   "id": "dc3ae640",
   "metadata": {},
   "source": [
    "# Fonksiyonlar\n",
    "* yield\n",
    "* lambda\n",
    "* decorator\n",
    "* built-inst\n",
    "* recursion"
   ]
  },
  {
   "cell_type": "code",
   "execution_count": 2,
   "id": "e943b2bf",
   "metadata": {},
   "outputs": [
    {
     "name": "stdout",
     "output_type": "stream",
     "text": [
      "<class 'int'>\n"
     ]
    }
   ],
   "source": [
    "# yield\n",
    "def fonk(a,b):\n",
    "    return a+b\n",
    "print(type(fonk(2,3)))"
   ]
  },
  {
   "cell_type": "code",
   "execution_count": 3,
   "id": "f2d9a6ba",
   "metadata": {},
   "outputs": [
    {
     "data": {
      "text/plain": [
       "generator"
      ]
     },
     "execution_count": 3,
     "metadata": {},
     "output_type": "execute_result"
    }
   ],
   "source": [
    "def fonk(a,b):\n",
    "    while a < b:\n",
    "        yield a\n",
    "        a += 1\n",
    "type(fonk(2,3))"
   ]
  },
  {
   "cell_type": "code",
   "execution_count": 4,
   "id": "de0aa5b3",
   "metadata": {},
   "outputs": [
    {
     "data": {
      "text/plain": [
       "generator"
      ]
     },
     "execution_count": 4,
     "metadata": {},
     "output_type": "execute_result"
    }
   ],
   "source": [
    "def fonk(a,b,c=1):\n",
    "    while a < b:\n",
    "        yield a\n",
    "        a += c\n",
    "type(fonk(2,3))"
   ]
  },
  {
   "cell_type": "code",
   "execution_count": 5,
   "id": "f3cd8acb",
   "metadata": {},
   "outputs": [
    {
     "name": "stdout",
     "output_type": "stream",
     "text": [
      "3 4 5 6 7\n"
     ]
    }
   ],
   "source": [
    "print(*fonk(3,8))"
   ]
  },
  {
   "cell_type": "code",
   "execution_count": 6,
   "id": "e649e27d",
   "metadata": {},
   "outputs": [
    {
     "name": "stdout",
     "output_type": "stream",
     "text": [
      "3\n",
      "4\n",
      "5\n",
      "6\n",
      "7\n"
     ]
    }
   ],
   "source": [
    "for item in fonk(3,8):\n",
    "    print(item)"
   ]
  },
  {
   "cell_type": "code",
   "execution_count": 7,
   "id": "16e53f6f",
   "metadata": {},
   "outputs": [
    {
     "data": {
      "text/plain": [
       "3"
      ]
     },
     "execution_count": 7,
     "metadata": {},
     "output_type": "execute_result"
    }
   ],
   "source": [
    "obj = iter(fonk(3,8))\n",
    "next(obj)"
   ]
  },
  {
   "cell_type": "code",
   "execution_count": 8,
   "id": "9f8521b5",
   "metadata": {},
   "outputs": [
    {
     "data": {
      "text/plain": [
       "4"
      ]
     },
     "execution_count": 8,
     "metadata": {},
     "output_type": "execute_result"
    }
   ],
   "source": [
    "next(obj)"
   ]
  },
  {
   "cell_type": "markdown",
   "id": "b797bdef",
   "metadata": {},
   "source": [
    "## lambda"
   ]
  },
  {
   "cell_type": "code",
   "execution_count": 9,
   "id": "14f53cf1",
   "metadata": {},
   "outputs": [
    {
     "name": "stdout",
     "output_type": "stream",
     "text": [
      "<class 'function'>\n"
     ]
    }
   ],
   "source": [
    "def fonk(a,b):\n",
    "    return a + b \n",
    "fonk = lambda a,b: a + b\n",
    "print(type(fonk))"
   ]
  },
  {
   "cell_type": "code",
   "execution_count": 10,
   "id": "5d24ebe1",
   "metadata": {},
   "outputs": [
    {
     "name": "stdout",
     "output_type": "stream",
     "text": [
      "[54, 43, 32, 12, 12, 9, 8]\n"
     ]
    }
   ],
   "source": [
    "liste = [12,32,43,54,12,8,9]\n",
    "liste.sort(reverse=True)\n",
    "print(liste)"
   ]
  },
  {
   "cell_type": "code",
   "execution_count": 11,
   "id": "602e1510",
   "metadata": {},
   "outputs": [
    {
     "name": "stdout",
     "output_type": "stream",
     "text": [
      "['ali', 'ayşe', 'fatma', 'osman', 'veli', 'zeynep', 'çiğdem', 'ömer', 'şermin']\n"
     ]
    }
   ],
   "source": [
    "liste = [\"ayşe\", \"fatma\", \"ali\", \"veli\", \"zeynep\", \"çiğdem\",\"şermin\",\"ömer\",\"osman\"]\n",
    "liste.sort()\n",
    "print(liste)"
   ]
  },
  {
   "cell_type": "code",
   "execution_count": 12,
   "id": "9111ab2d",
   "metadata": {},
   "outputs": [
    {
     "data": {
      "text/plain": [
       "['ali', 'ayşe', 'çiğdem', 'fatma', 'osman', 'ömer', 'şermin', 'veli', 'zeynep']"
      ]
     },
     "execution_count": 12,
     "metadata": {},
     "output_type": "execute_result"
    }
   ],
   "source": [
    "alfabe = \"abcçdefgğhıijklmnoöprsştuüvyz\"\n",
    "cevrim = {item : alfabe.index(item) for item in alfabe}\n",
    "sorted(liste,key=lambda x: cevrim.get(x[0]))"
   ]
  },
  {
   "cell_type": "code",
   "execution_count": 13,
   "id": "20d8c525",
   "metadata": {},
   "outputs": [
    {
     "name": "stdout",
     "output_type": "stream",
     "text": [
      "çiğdem\n"
     ]
    },
    {
     "data": {
      "text/plain": [
       "3"
      ]
     },
     "execution_count": 13,
     "metadata": {},
     "output_type": "execute_result"
    }
   ],
   "source": [
    "x = liste[6]\n",
    "print(x)\n",
    "cevrim.get(x[0])"
   ]
  },
  {
   "cell_type": "markdown",
   "id": "27b2bdfa",
   "metadata": {},
   "source": [
    "## decorators"
   ]
  },
  {
   "cell_type": "code",
   "execution_count": 14,
   "id": "4d9e62a7",
   "metadata": {},
   "outputs": [
    {
     "name": "stdout",
     "output_type": "stream",
     "text": [
      "120\n",
      "120\n"
     ]
    },
    {
     "data": {
      "text/plain": [
       "120"
      ]
     },
     "execution_count": 14,
     "metadata": {},
     "output_type": "execute_result"
    }
   ],
   "source": [
    "def faktoryel1(n):\n",
    "    import math\n",
    "    print(math.factorial(n))\n",
    "\n",
    "def faktoryel2(n):\n",
    "    if n == 0:\n",
    "        return 1\n",
    "    else:\n",
    "        return n * faktoryel2(n-1)\n",
    "\n",
    "def faktoryel3(n):\n",
    "    if n == 0:\n",
    "        return 1\n",
    "    else:\n",
    "        f = 1\n",
    "        for i in range(1,n+1):\n",
    "            f *= i\n",
    "        return f\n",
    "    \n",
    "faktoryel1(5)\n",
    "print(faktoryel2(5))\n",
    "faktoryel3(5)"
   ]
  },
  {
   "cell_type": "code",
   "execution_count": 15,
   "id": "59b1d0c0",
   "metadata": {},
   "outputs": [
    {
     "name": "stdout",
     "output_type": "stream",
     "text": [
      "Fonksiyonun çalışma süresi: 1.0001075267791748 saniye\n",
      "120\n",
      "Fonksiyonun çalışma süresi: 1.000124454498291 saniye\n",
      "120\n"
     ]
    }
   ],
   "source": [
    "def zaman(fonk):\n",
    "    import time\n",
    "    def wrapper(*args, **kwargs):\n",
    "        basla = time.time()\n",
    "        time.sleep(1)\n",
    "        sonuc = fonk(*args, **kwargs)\n",
    "        bitir = time.time()\n",
    "        print(f\"Fonksiyonun çalışma süresi: {bitir - basla} saniye\")\n",
    "        return sonuc\n",
    "    return wrapper\n",
    "\n",
    "\n",
    "\n",
    "@zaman\n",
    "def faktoryel4(n):\n",
    "    if n == 0:\n",
    "        return 1\n",
    "    else:\n",
    "        f = 1\n",
    "        for i in range(1,n+1):\n",
    "            f *= i\n",
    "        return f\n",
    "\n",
    "print(faktoryel4(5))\n",
    "\n",
    "@zaman\n",
    "def faktoryel6(n):\n",
    "    import math\n",
    "    return math.factorial(n)\n",
    "print(faktoryel6(5))\n"
   ]
  },
  {
   "cell_type": "markdown",
   "id": "c651f0f6",
   "metadata": {},
   "source": [
    "## built ins\n",
    "* map\n",
    "* filter\n",
    "* any,all\n",
    "* zip\n",
    "* eval,exec\n",
    "* enumerate"
   ]
  },
  {
   "cell_type": "code",
   "execution_count": 16,
   "id": "cc0e7d22",
   "metadata": {},
   "outputs": [
    {
     "data": {
      "text/plain": [
       "[12, 32, 54, 12, 8]"
      ]
     },
     "execution_count": 16,
     "metadata": {},
     "output_type": "execute_result"
    }
   ],
   "source": [
    "# filter\n",
    "liste = [12,32,43,54,12,8,9]\n",
    "list(filter(lambda x: not x % 2,liste))\n",
    "\n",
    "# listeleden çift sayıların ayrıştırılması için filter fonksiyonunun kullanımı"
   ]
  },
  {
   "cell_type": "code",
   "execution_count": 17,
   "id": "bce56969",
   "metadata": {},
   "outputs": [
    {
     "data": {
      "text/plain": [
       "' '"
      ]
     },
     "execution_count": 17,
     "metadata": {},
     "output_type": "execute_result"
    }
   ],
   "source": [
    "chr(32)"
   ]
  },
  {
   "cell_type": "code",
   "execution_count": 18,
   "id": "0a679fdc",
   "metadata": {},
   "outputs": [
    {
     "name": "stdout",
     "output_type": "stream",
     "text": [
      "[44, 54, 45, 55, 44, 40, 41]\n",
      "[',', '6', '-', '7', ',', '(', ')']\n"
     ]
    }
   ],
   "source": [
    "liste = [12,22,13,23,12,8,9]\n",
    "liste = list(map(lambda x:x+32,liste))\n",
    "print(liste)\n",
    "print(list(map(chr,liste)))"
   ]
  },
  {
   "cell_type": "code",
   "execution_count": 19,
   "id": "de93e399",
   "metadata": {},
   "outputs": [
    {
     "name": "stdout",
     "output_type": "stream",
     "text": [
      "False\n"
     ]
    }
   ],
   "source": [
    "if 0:\n",
    "    print(\"True\")\n",
    "else:\n",
    "    print(\"False\")"
   ]
  },
  {
   "cell_type": "code",
   "execution_count": 20,
   "id": "5bf7c71c",
   "metadata": {},
   "outputs": [
    {
     "name": "stdout",
     "output_type": "stream",
     "text": [
      "False\n",
      "True\n"
     ]
    }
   ],
   "source": [
    "liste= [1,1,1,1,1,1,1,0,1,1,1,1,1,]\n",
    "\n",
    "print(all(liste))\n",
    "print(any(liste))"
   ]
  },
  {
   "cell_type": "code",
   "execution_count": 21,
   "id": "74e1f304",
   "metadata": {},
   "outputs": [
    {
     "name": "stdout",
     "output_type": "stream",
     "text": [
      "True\n",
      "True\n"
     ]
    }
   ],
   "source": [
    "liste= [1,1,1,1,1,1,1,1,1,1,1,1,1,]\n",
    "\n",
    "print(all(liste))\n",
    "print(any(liste))"
   ]
  },
  {
   "cell_type": "code",
   "execution_count": 22,
   "id": "ba58773d",
   "metadata": {},
   "outputs": [
    {
     "name": "stdout",
     "output_type": "stream",
     "text": [
      "False\n",
      "False\n"
     ]
    }
   ],
   "source": [
    "liste= [0,0,0,0,0,0,0,0,0,0,0,0,0,]\n",
    "\n",
    "print(all(liste))\n",
    "print(any(liste))"
   ]
  },
  {
   "cell_type": "code",
   "execution_count": 23,
   "id": "ef91dbc1",
   "metadata": {},
   "outputs": [
    {
     "name": "stdout",
     "output_type": "stream",
     "text": [
      "{'ali': 'ankara', 'ayşe': 'istanbul', 'fatma': 'izmir', 'veli': 'antalya', 'şermin': 'bursa'}\n"
     ]
    }
   ],
   "source": [
    "l1 = [\"ankara\",\"istanbul\",\"izmir\",\"antalya\",\"bursa\"]\n",
    "l2 = [\"ali\",\"ayşe\",\"fatma\",\"veli\",\"şermin\"]\n",
    "list(zip(l2,l1))\n",
    "sozluk = {}\n",
    "sozluk.update(zip(l2,l1))\n",
    "print(sozluk)"
   ]
  },
  {
   "cell_type": "code",
   "execution_count": 24,
   "id": "5d545058",
   "metadata": {},
   "outputs": [
    {
     "data": {
      "text/plain": [
       "[('ali', 'ayşe', 'fatma', 'veli', 'şermin'),\n",
       " ('ankara', 'istanbul', 'izmir', 'antalya', 'bursa')]"
      ]
     },
     "execution_count": 24,
     "metadata": {},
     "output_type": "execute_result"
    }
   ],
   "source": [
    "list(zip(*zip(l2,l1)))"
   ]
  },
  {
   "cell_type": "code",
   "execution_count": 25,
   "id": "6b9b4140",
   "metadata": {},
   "outputs": [
    {
     "ename": "ValueError",
     "evalue": "zip() argument 2 is shorter than argument 1",
     "output_type": "error",
     "traceback": [
      "\u001b[31m---------------------------------------------------------------------------\u001b[39m",
      "\u001b[31mValueError\u001b[39m                                Traceback (most recent call last)",
      "\u001b[36mCell\u001b[39m\u001b[36m \u001b[39m\u001b[32mIn[25]\u001b[39m\u001b[32m, line 3\u001b[39m\n\u001b[32m      1\u001b[39m l1 = [\u001b[33m\"\u001b[39m\u001b[33mankara\u001b[39m\u001b[33m\"\u001b[39m,\u001b[33m\"\u001b[39m\u001b[33mistanbul\u001b[39m\u001b[33m\"\u001b[39m,\u001b[33m\"\u001b[39m\u001b[33mizmir\u001b[39m\u001b[33m\"\u001b[39m,\u001b[33m\"\u001b[39m\u001b[33mantalya\u001b[39m\u001b[33m\"\u001b[39m,\u001b[33m\"\u001b[39m\u001b[33mbursa\u001b[39m\u001b[33m\"\u001b[39m]\n\u001b[32m      2\u001b[39m l2 = [\u001b[33m\"\u001b[39m\u001b[33mali\u001b[39m\u001b[33m\"\u001b[39m,\u001b[33m\"\u001b[39m\u001b[33mayşe\u001b[39m\u001b[33m\"\u001b[39m,\u001b[33m\"\u001b[39m\u001b[33mfatma\u001b[39m\u001b[33m\"\u001b[39m,\u001b[33m\"\u001b[39m\u001b[33mveli\u001b[39m\u001b[33m\"\u001b[39m,\u001b[33m\"\u001b[39m\u001b[33mşermin\u001b[39m\u001b[33m\"\u001b[39m,\u001b[33m\"\u001b[39m\u001b[33mahmet\u001b[39m\u001b[33m\"\u001b[39m]\n\u001b[32m----> \u001b[39m\u001b[32m3\u001b[39m \u001b[38;5;28;43mlist\u001b[39;49m\u001b[43m(\u001b[49m\u001b[38;5;28;43mzip\u001b[39;49m\u001b[43m(\u001b[49m\u001b[43ml2\u001b[49m\u001b[43m,\u001b[49m\u001b[43ml1\u001b[49m\u001b[43m,\u001b[49m\u001b[43mstrict\u001b[49m\u001b[43m=\u001b[49m\u001b[38;5;28;43;01mTrue\u001b[39;49;00m\u001b[43m)\u001b[49m\u001b[43m)\u001b[49m\n",
      "\u001b[31mValueError\u001b[39m: zip() argument 2 is shorter than argument 1"
     ]
    }
   ],
   "source": [
    "l1 = [\"ankara\",\"istanbul\",\"izmir\",\"antalya\",\"bursa\"]\n",
    "l2 = [\"ali\",\"ayşe\",\"fatma\",\"veli\",\"şermin\",\"ahmet\"]\n",
    "list(zip(l2,l1,strict=True))"
   ]
  },
  {
   "cell_type": "code",
   "execution_count": null,
   "id": "6b312bd2",
   "metadata": {},
   "outputs": [
    {
     "data": {
      "text/plain": [
       "5"
      ]
     },
     "execution_count": 33,
     "metadata": {},
     "output_type": "execute_result"
    }
   ],
   "source": [
    "eval(\"2+3\")"
   ]
  },
  {
   "cell_type": "code",
   "execution_count": null,
   "id": "19f75b40",
   "metadata": {},
   "outputs": [
    {
     "data": {
      "text/plain": [
       "250000"
      ]
     },
     "execution_count": 34,
     "metadata": {},
     "output_type": "execute_result"
    }
   ],
   "source": [
    "eval(\"500*500\")"
   ]
  },
  {
   "cell_type": "code",
   "execution_count": null,
   "id": "76bfc055",
   "metadata": {},
   "outputs": [],
   "source": [
    "exec(\"degisken=10\")"
   ]
  },
  {
   "cell_type": "code",
   "execution_count": null,
   "id": "eab0dbea",
   "metadata": {},
   "outputs": [
    {
     "data": {
      "text/plain": [
       "10"
      ]
     },
     "execution_count": 36,
     "metadata": {},
     "output_type": "execute_result"
    }
   ],
   "source": [
    "degisken"
   ]
  },
  {
   "cell_type": "code",
   "execution_count": null,
   "id": "2701eaaf",
   "metadata": {},
   "outputs": [
    {
     "name": "stdout",
     "output_type": "stream",
     "text": [
      "0\n",
      "1\n",
      "2\n",
      "3\n",
      "4\n"
     ]
    }
   ],
   "source": [
    "kod = \"\"\"\n",
    "for i in range(5):\n",
    "    print(i)\n",
    "\"\"\"\n",
    "exec(kod)"
   ]
  },
  {
   "cell_type": "code",
   "execution_count": null,
   "id": "c55f0639",
   "metadata": {},
   "outputs": [
    {
     "data": {
      "text/plain": [
       "[(100, 'ali'), (101, 'ayşe'), (102, 'fatma'), (103, 'veli'), (104, 'şermin')]"
      ]
     },
     "execution_count": 39,
     "metadata": {},
     "output_type": "execute_result"
    }
   ],
   "source": [
    "l2 = [\"ali\",\"ayşe\",\"fatma\",\"veli\",\"şermin\"]\n",
    "list(enumerate(l2,start=100))"
   ]
  },
  {
   "cell_type": "markdown",
   "id": "ebd96163",
   "metadata": {},
   "source": [
    "## recursion"
   ]
  },
  {
   "cell_type": "code",
   "execution_count": null,
   "id": "a77928f4",
   "metadata": {},
   "outputs": [
    {
     "name": "stdout",
     "output_type": "stream",
     "text": [
      "merhaba\n",
      "erhaba\n",
      "rhaba\n",
      "haba\n",
      "aba\n",
      "ba\n",
      "a\n"
     ]
    }
   ],
   "source": [
    "def fonk(metin):\n",
    "    if len(metin) == 1:\n",
    "        print(metin)\n",
    "    else:\n",
    "        print(metin)\n",
    "        fonk(metin[1:])\n",
    "\n",
    "fonk(\"merhaba\")\n"
   ]
  },
  {
   "cell_type": "code",
   "execution_count": null,
   "id": "acc47eea",
   "metadata": {},
   "outputs": [
    {
     "name": "stdout",
     "output_type": "stream",
     "text": [
      "6765\n"
     ]
    }
   ],
   "source": [
    "def fibo(n):\n",
    "    if n == 0:\n",
    "        return 0\n",
    "    elif n == 1:\n",
    "        return 1\n",
    "    else:\n",
    "        return fibo(n-1) + fibo(n-2)\n",
    "print(fibo(20))"
   ]
  },
  {
   "cell_type": "code",
   "execution_count": 26,
   "id": "93cee6fd",
   "metadata": {},
   "outputs": [
    {
     "data": {
      "text/plain": [
       "{'__name__': '__main__',\n",
       " '__doc__': 'Automatically created module for IPython interactive environment',\n",
       " '__package__': None,\n",
       " '__loader__': None,\n",
       " '__spec__': None,\n",
       " '__builtin__': <module 'builtins' (built-in)>,\n",
       " '__builtins__': <module 'builtins' (built-in)>,\n",
       " '_ih': ['',\n",
       "  'globals()',\n",
       "  '# yield\\ndef fonk(a,b):\\n    return a+b\\nprint(type(fonk(2,3)))',\n",
       "  'def fonk(a,b):\\n    while a < b:\\n        yield a\\n        a += 1\\ntype(fonk(2,3))',\n",
       "  'def fonk(a,b,c=1):\\n    while a < b:\\n        yield a\\n        a += c\\ntype(fonk(2,3))',\n",
       "  'print(*fonk(3,8))',\n",
       "  'for item in fonk(3,8):\\n    print(item)',\n",
       "  'obj = iter(fonk(3,8))\\nnext(obj)',\n",
       "  'next(obj)',\n",
       "  'def fonk(a,b):\\n    return a + b \\nfonk = lambda a,b: a + b\\nprint(type(fonk))',\n",
       "  'liste = [12,32,43,54,12,8,9]\\nliste.sort(reverse=True)\\nprint(liste)',\n",
       "  'liste = [\"ayşe\", \"fatma\", \"ali\", \"veli\", \"zeynep\", \"çiğdem\",\"şermin\",\"ömer\",\"osman\"]\\nliste.sort()\\nprint(liste)',\n",
       "  'alfabe = \"abcçdefgğhıijklmnoöprsştuüvyz\"\\ncevrim = {item : alfabe.index(item) for item in alfabe}\\nsorted(liste,key=lambda x: cevrim.get(x[0]))',\n",
       "  'x = liste[6]\\nprint(x)\\ncevrim.get(x[0])',\n",
       "  'def faktoryel1(n):\\n    import math\\n    print(math.factorial(n))\\n\\ndef faktoryel2(n):\\n    if n == 0:\\n        return 1\\n    else:\\n        return n * faktoryel2(n-1)\\n\\ndef faktoryel3(n):\\n    if n == 0:\\n        return 1\\n    else:\\n        f = 1\\n        for i in range(1,n+1):\\n            f *= i\\n        return f\\n\\nfaktoryel1(5)\\nprint(faktoryel2(5))\\nfaktoryel3(5)',\n",
       "  'def zaman(fonk):\\n    import time\\n    def wrapper(*args, **kwargs):\\n        basla = time.time()\\n        time.sleep(1)\\n        sonuc = fonk(*args, **kwargs)\\n        bitir = time.time()\\n        print(f\"Fonksiyonun çalışma süresi: {bitir - basla} saniye\")\\n        return sonuc\\n    return wrapper\\n\\n\\n\\n@zaman\\ndef faktoryel4(n):\\n    if n == 0:\\n        return 1\\n    else:\\n        f = 1\\n        for i in range(1,n+1):\\n            f *= i\\n        return f\\n\\nprint(faktoryel4(5))\\n\\n@zaman\\ndef faktoryel6(n):\\n    import math\\n    return math.factorial(n)\\nprint(faktoryel6(5))',\n",
       "  '# filter\\nliste = [12,32,43,54,12,8,9]\\nlist(filter(lambda x: not x % 2,liste))\\n\\n# listeleden çift sayıların ayrıştırılması için filter fonksiyonunun kullanımı',\n",
       "  'chr(32)',\n",
       "  'liste = [12,22,13,23,12,8,9]\\nliste = list(map(lambda x:x+32,liste))\\nprint(liste)\\nprint(list(map(chr,liste)))',\n",
       "  'if 0:\\n    print(\"True\")\\nelse:\\n    print(\"False\")',\n",
       "  'liste= [1,1,1,1,1,1,1,0,1,1,1,1,1,]\\n\\nprint(all(liste))\\nprint(any(liste))',\n",
       "  'liste= [1,1,1,1,1,1,1,1,1,1,1,1,1,]\\n\\nprint(all(liste))\\nprint(any(liste))',\n",
       "  'liste= [0,0,0,0,0,0,0,0,0,0,0,0,0,]\\n\\nprint(all(liste))\\nprint(any(liste))',\n",
       "  'l1 = [\"ankara\",\"istanbul\",\"izmir\",\"antalya\",\"bursa\"]\\nl2 = [\"ali\",\"ayşe\",\"fatma\",\"veli\",\"şermin\"]\\nlist(zip(l2,l1))\\nsozluk = {}\\nsozluk.update(zip(l2,l1))\\nprint(sozluk)',\n",
       "  'list(zip(*zip(l2,l1)))',\n",
       "  'l1 = [\"ankara\",\"istanbul\",\"izmir\",\"antalya\",\"bursa\"]\\nl2 = [\"ali\",\"ayşe\",\"fatma\",\"veli\",\"şermin\",\"ahmet\"]\\nlist(zip(l2,l1,strict=True))',\n",
       "  'globals()'],\n",
       " '_oh': {1: {...},\n",
       "  3: generator,\n",
       "  4: generator,\n",
       "  7: 3,\n",
       "  8: 4,\n",
       "  12: ['ali',\n",
       "   'ayşe',\n",
       "   'çiğdem',\n",
       "   'fatma',\n",
       "   'osman',\n",
       "   'ömer',\n",
       "   'şermin',\n",
       "   'veli',\n",
       "   'zeynep'],\n",
       "  13: 3,\n",
       "  14: 120,\n",
       "  16: [12, 32, 54, 12, 8],\n",
       "  17: ' ',\n",
       "  24: [('ali', 'ayşe', 'fatma', 'veli', 'şermin'),\n",
       "   ('ankara', 'istanbul', 'izmir', 'antalya', 'bursa')]},\n",
       " '_dh': [PosixPath('/workspace/DVA_Python190625/Dokumanlar/Fonksiyonlar')],\n",
       " 'In': ['',\n",
       "  'globals()',\n",
       "  '# yield\\ndef fonk(a,b):\\n    return a+b\\nprint(type(fonk(2,3)))',\n",
       "  'def fonk(a,b):\\n    while a < b:\\n        yield a\\n        a += 1\\ntype(fonk(2,3))',\n",
       "  'def fonk(a,b,c=1):\\n    while a < b:\\n        yield a\\n        a += c\\ntype(fonk(2,3))',\n",
       "  'print(*fonk(3,8))',\n",
       "  'for item in fonk(3,8):\\n    print(item)',\n",
       "  'obj = iter(fonk(3,8))\\nnext(obj)',\n",
       "  'next(obj)',\n",
       "  'def fonk(a,b):\\n    return a + b \\nfonk = lambda a,b: a + b\\nprint(type(fonk))',\n",
       "  'liste = [12,32,43,54,12,8,9]\\nliste.sort(reverse=True)\\nprint(liste)',\n",
       "  'liste = [\"ayşe\", \"fatma\", \"ali\", \"veli\", \"zeynep\", \"çiğdem\",\"şermin\",\"ömer\",\"osman\"]\\nliste.sort()\\nprint(liste)',\n",
       "  'alfabe = \"abcçdefgğhıijklmnoöprsştuüvyz\"\\ncevrim = {item : alfabe.index(item) for item in alfabe}\\nsorted(liste,key=lambda x: cevrim.get(x[0]))',\n",
       "  'x = liste[6]\\nprint(x)\\ncevrim.get(x[0])',\n",
       "  'def faktoryel1(n):\\n    import math\\n    print(math.factorial(n))\\n\\ndef faktoryel2(n):\\n    if n == 0:\\n        return 1\\n    else:\\n        return n * faktoryel2(n-1)\\n\\ndef faktoryel3(n):\\n    if n == 0:\\n        return 1\\n    else:\\n        f = 1\\n        for i in range(1,n+1):\\n            f *= i\\n        return f\\n\\nfaktoryel1(5)\\nprint(faktoryel2(5))\\nfaktoryel3(5)',\n",
       "  'def zaman(fonk):\\n    import time\\n    def wrapper(*args, **kwargs):\\n        basla = time.time()\\n        time.sleep(1)\\n        sonuc = fonk(*args, **kwargs)\\n        bitir = time.time()\\n        print(f\"Fonksiyonun çalışma süresi: {bitir - basla} saniye\")\\n        return sonuc\\n    return wrapper\\n\\n\\n\\n@zaman\\ndef faktoryel4(n):\\n    if n == 0:\\n        return 1\\n    else:\\n        f = 1\\n        for i in range(1,n+1):\\n            f *= i\\n        return f\\n\\nprint(faktoryel4(5))\\n\\n@zaman\\ndef faktoryel6(n):\\n    import math\\n    return math.factorial(n)\\nprint(faktoryel6(5))',\n",
       "  '# filter\\nliste = [12,32,43,54,12,8,9]\\nlist(filter(lambda x: not x % 2,liste))\\n\\n# listeleden çift sayıların ayrıştırılması için filter fonksiyonunun kullanımı',\n",
       "  'chr(32)',\n",
       "  'liste = [12,22,13,23,12,8,9]\\nliste = list(map(lambda x:x+32,liste))\\nprint(liste)\\nprint(list(map(chr,liste)))',\n",
       "  'if 0:\\n    print(\"True\")\\nelse:\\n    print(\"False\")',\n",
       "  'liste= [1,1,1,1,1,1,1,0,1,1,1,1,1,]\\n\\nprint(all(liste))\\nprint(any(liste))',\n",
       "  'liste= [1,1,1,1,1,1,1,1,1,1,1,1,1,]\\n\\nprint(all(liste))\\nprint(any(liste))',\n",
       "  'liste= [0,0,0,0,0,0,0,0,0,0,0,0,0,]\\n\\nprint(all(liste))\\nprint(any(liste))',\n",
       "  'l1 = [\"ankara\",\"istanbul\",\"izmir\",\"antalya\",\"bursa\"]\\nl2 = [\"ali\",\"ayşe\",\"fatma\",\"veli\",\"şermin\"]\\nlist(zip(l2,l1))\\nsozluk = {}\\nsozluk.update(zip(l2,l1))\\nprint(sozluk)',\n",
       "  'list(zip(*zip(l2,l1)))',\n",
       "  'l1 = [\"ankara\",\"istanbul\",\"izmir\",\"antalya\",\"bursa\"]\\nl2 = [\"ali\",\"ayşe\",\"fatma\",\"veli\",\"şermin\",\"ahmet\"]\\nlist(zip(l2,l1,strict=True))',\n",
       "  'globals()'],\n",
       " 'Out': {1: {...},\n",
       "  3: generator,\n",
       "  4: generator,\n",
       "  7: 3,\n",
       "  8: 4,\n",
       "  12: ['ali',\n",
       "   'ayşe',\n",
       "   'çiğdem',\n",
       "   'fatma',\n",
       "   'osman',\n",
       "   'ömer',\n",
       "   'şermin',\n",
       "   'veli',\n",
       "   'zeynep'],\n",
       "  13: 3,\n",
       "  14: 120,\n",
       "  16: [12, 32, 54, 12, 8],\n",
       "  17: ' ',\n",
       "  24: [('ali', 'ayşe', 'fatma', 'veli', 'şermin'),\n",
       "   ('ankara', 'istanbul', 'izmir', 'antalya', 'bursa')]},\n",
       " 'get_ipython': <bound method InteractiveShell.get_ipython of <ipykernel.zmqshell.ZMQInteractiveShell object at 0x7fbdd04d9df0>>,\n",
       " 'exit': <IPython.core.autocall.ZMQExitAutocall at 0x7fbdd028dcd0>,\n",
       " 'quit': <IPython.core.autocall.ZMQExitAutocall at 0x7fbdd028dcd0>,\n",
       " 'open': <function _io.open(file, mode='r', buffering=-1, encoding=None, errors=None, newline=None, closefd=True, opener=None)>,\n",
       " '_': [('ali', 'ayşe', 'fatma', 'veli', 'şermin'),\n",
       "  ('ankara', 'istanbul', 'izmir', 'antalya', 'bursa')],\n",
       " '__': ' ',\n",
       " '___': [12, 32, 54, 12, 8],\n",
       " '__vsc_ipynb_file__': '/workspace/DVA_Python190625/Dokumanlar/Fonksiyonlar/Fonkisyonlar3.ipynb',\n",
       " '_i': 'l1 = [\"ankara\",\"istanbul\",\"izmir\",\"antalya\",\"bursa\"]\\nl2 = [\"ali\",\"ayşe\",\"fatma\",\"veli\",\"şermin\",\"ahmet\"]\\nlist(zip(l2,l1,strict=True))',\n",
       " '_ii': 'list(zip(*zip(l2,l1)))',\n",
       " '_iii': 'l1 = [\"ankara\",\"istanbul\",\"izmir\",\"antalya\",\"bursa\"]\\nl2 = [\"ali\",\"ayşe\",\"fatma\",\"veli\",\"şermin\"]\\nlist(zip(l2,l1))\\nsozluk = {}\\nsozluk.update(zip(l2,l1))\\nprint(sozluk)',\n",
       " '_i1': 'globals()',\n",
       " '_1': {...},\n",
       " '_i2': '# yield\\ndef fonk(a,b):\\n    return a+b\\nprint(type(fonk(2,3)))',\n",
       " 'fonk': <function __main__.<lambda>(a, b)>,\n",
       " '_i3': 'def fonk(a,b):\\n    while a < b:\\n        yield a\\n        a += 1\\ntype(fonk(2,3))',\n",
       " '_3': generator,\n",
       " '_i4': 'def fonk(a,b,c=1):\\n    while a < b:\\n        yield a\\n        a += c\\ntype(fonk(2,3))',\n",
       " '_4': generator,\n",
       " '_i5': 'print(*fonk(3,8))',\n",
       " '_i6': 'for item in fonk(3,8):\\n    print(item)',\n",
       " 'item': 7,\n",
       " '_i7': 'obj = iter(fonk(3,8))\\nnext(obj)',\n",
       " 'obj': <generator object fonk at 0x7fbdbafadf20>,\n",
       " '_7': 3,\n",
       " '_i8': 'next(obj)',\n",
       " '_8': 4,\n",
       " '_i9': 'def fonk(a,b):\\n    return a + b \\nfonk = lambda a,b: a + b\\nprint(type(fonk))',\n",
       " '_i10': 'liste = [12,32,43,54,12,8,9]\\nliste.sort(reverse=True)\\nprint(liste)',\n",
       " 'liste': [0, 0, 0, 0, 0, 0, 0, 0, 0, 0, 0, 0, 0],\n",
       " '_i11': 'liste = [\"ayşe\", \"fatma\", \"ali\", \"veli\", \"zeynep\", \"çiğdem\",\"şermin\",\"ömer\",\"osman\"]\\nliste.sort()\\nprint(liste)',\n",
       " '_i12': 'alfabe = \"abcçdefgğhıijklmnoöprsştuüvyz\"\\ncevrim = {item : alfabe.index(item) for item in alfabe}\\nsorted(liste,key=lambda x: cevrim.get(x[0]))',\n",
       " 'alfabe': 'abcçdefgğhıijklmnoöprsştuüvyz',\n",
       " 'cevrim': {'a': 0,\n",
       "  'b': 1,\n",
       "  'c': 2,\n",
       "  'ç': 3,\n",
       "  'd': 4,\n",
       "  'e': 5,\n",
       "  'f': 6,\n",
       "  'g': 7,\n",
       "  'ğ': 8,\n",
       "  'h': 9,\n",
       "  'ı': 10,\n",
       "  'i': 11,\n",
       "  'j': 12,\n",
       "  'k': 13,\n",
       "  'l': 14,\n",
       "  'm': 15,\n",
       "  'n': 16,\n",
       "  'o': 17,\n",
       "  'ö': 18,\n",
       "  'p': 19,\n",
       "  'r': 20,\n",
       "  's': 21,\n",
       "  'ş': 22,\n",
       "  't': 23,\n",
       "  'u': 24,\n",
       "  'ü': 25,\n",
       "  'v': 26,\n",
       "  'y': 27,\n",
       "  'z': 28},\n",
       " '_12': ['ali',\n",
       "  'ayşe',\n",
       "  'çiğdem',\n",
       "  'fatma',\n",
       "  'osman',\n",
       "  'ömer',\n",
       "  'şermin',\n",
       "  'veli',\n",
       "  'zeynep'],\n",
       " '_i13': 'x = liste[6]\\nprint(x)\\ncevrim.get(x[0])',\n",
       " 'x': 'çiğdem',\n",
       " '_13': 3,\n",
       " '_i14': 'def faktoryel1(n):\\n    import math\\n    print(math.factorial(n))\\n\\ndef faktoryel2(n):\\n    if n == 0:\\n        return 1\\n    else:\\n        return n * faktoryel2(n-1)\\n\\ndef faktoryel3(n):\\n    if n == 0:\\n        return 1\\n    else:\\n        f = 1\\n        for i in range(1,n+1):\\n            f *= i\\n        return f\\n    \\nfaktoryel1(5)\\nprint(faktoryel2(5))\\nfaktoryel3(5)',\n",
       " 'faktoryel1': <function __main__.faktoryel1(n)>,\n",
       " 'faktoryel2': <function __main__.faktoryel2(n)>,\n",
       " 'faktoryel3': <function __main__.faktoryel3(n)>,\n",
       " '_14': 120,\n",
       " '_i15': 'def zaman(fonk):\\n    import time\\n    def wrapper(*args, **kwargs):\\n        basla = time.time()\\n        time.sleep(1)\\n        sonuc = fonk(*args, **kwargs)\\n        bitir = time.time()\\n        print(f\"Fonksiyonun çalışma süresi: {bitir - basla} saniye\")\\n        return sonuc\\n    return wrapper\\n\\n\\n\\n@zaman\\ndef faktoryel4(n):\\n    if n == 0:\\n        return 1\\n    else:\\n        f = 1\\n        for i in range(1,n+1):\\n            f *= i\\n        return f\\n\\nprint(faktoryel4(5))\\n\\n@zaman\\ndef faktoryel6(n):\\n    import math\\n    return math.factorial(n)\\nprint(faktoryel6(5))',\n",
       " 'zaman': <function __main__.zaman(fonk)>,\n",
       " 'faktoryel4': <function __main__.zaman.<locals>.wrapper(*args, **kwargs)>,\n",
       " 'faktoryel6': <function __main__.zaman.<locals>.wrapper(*args, **kwargs)>,\n",
       " '_i16': '# filter\\nliste = [12,32,43,54,12,8,9]\\nlist(filter(lambda x: not x % 2,liste))\\n\\n# listeleden çift sayıların ayrıştırılması için filter fonksiyonunun kullanımı',\n",
       " '_16': [12, 32, 54, 12, 8],\n",
       " '_i17': 'chr(32)',\n",
       " '_17': ' ',\n",
       " '_i18': 'liste = [12,22,13,23,12,8,9]\\nliste = list(map(lambda x:x+32,liste))\\nprint(liste)\\nprint(list(map(chr,liste)))',\n",
       " '_i19': 'if 0:\\n    print(\"True\")\\nelse:\\n    print(\"False\")',\n",
       " '_i20': 'liste= [1,1,1,1,1,1,1,0,1,1,1,1,1,]\\n\\nprint(all(liste))\\nprint(any(liste))',\n",
       " '_i21': 'liste= [1,1,1,1,1,1,1,1,1,1,1,1,1,]\\n\\nprint(all(liste))\\nprint(any(liste))',\n",
       " '_i22': 'liste= [0,0,0,0,0,0,0,0,0,0,0,0,0,]\\n\\nprint(all(liste))\\nprint(any(liste))',\n",
       " '_i23': 'l1 = [\"ankara\",\"istanbul\",\"izmir\",\"antalya\",\"bursa\"]\\nl2 = [\"ali\",\"ayşe\",\"fatma\",\"veli\",\"şermin\"]\\nlist(zip(l2,l1))\\nsozluk = {}\\nsozluk.update(zip(l2,l1))\\nprint(sozluk)',\n",
       " 'l1': ['ankara', 'istanbul', 'izmir', 'antalya', 'bursa'],\n",
       " 'l2': ['ali', 'ayşe', 'fatma', 'veli', 'şermin', 'ahmet'],\n",
       " 'sozluk': {'ali': 'ankara',\n",
       "  'ayşe': 'istanbul',\n",
       "  'fatma': 'izmir',\n",
       "  'veli': 'antalya',\n",
       "  'şermin': 'bursa'},\n",
       " '_i24': 'list(zip(*zip(l2,l1)))',\n",
       " '_24': [('ali', 'ayşe', 'fatma', 'veli', 'şermin'),\n",
       "  ('ankara', 'istanbul', 'izmir', 'antalya', 'bursa')],\n",
       " '_i25': 'l1 = [\"ankara\",\"istanbul\",\"izmir\",\"antalya\",\"bursa\"]\\nl2 = [\"ali\",\"ayşe\",\"fatma\",\"veli\",\"şermin\",\"ahmet\"]\\nlist(zip(l2,l1,strict=True))',\n",
       " '_i26': 'globals()'}"
      ]
     },
     "execution_count": 26,
     "metadata": {},
     "output_type": "execute_result"
    }
   ],
   "source": [
    "globals()"
   ]
  },
  {
   "cell_type": "code",
   "execution_count": 27,
   "id": "c2491a23",
   "metadata": {},
   "outputs": [
    {
     "name": "stdout",
     "output_type": "stream",
     "text": [
      "1. Aşama a: 5\n",
      "Fonksiyonun içinden a: 2\n",
      "2. Aşama a: 5\n"
     ]
    }
   ],
   "source": [
    "a = 5\n",
    "def fonk(b):\n",
    "    a = 2\n",
    "    print(\"Fonksiyonun içinden a:\",a)\n",
    "print(\"1. Aşama a:\",a)\n",
    "fonk(3)\n",
    "print(\"2. Aşama a:\",a)"
   ]
  },
  {
   "cell_type": "code",
   "execution_count": 28,
   "id": "41faa675",
   "metadata": {},
   "outputs": [
    {
     "name": "stdout",
     "output_type": "stream",
     "text": [
      "1. Aşama a: 5\n",
      "Fonksiyonun içinden a: 2\n",
      "2. Aşama a: 2\n"
     ]
    }
   ],
   "source": [
    "a = 5\n",
    "def fonk(b):\n",
    "    global a\n",
    "    a = 2\n",
    "    print(\"Fonksiyonun içinden a:\",a)\n",
    "print(\"1. Aşama a:\",a)\n",
    "fonk(3)\n",
    "print(\"2. Aşama a:\",a)"
   ]
  },
  {
   "cell_type": "code",
   "execution_count": 30,
   "id": "371e274b",
   "metadata": {},
   "outputs": [
    {
     "name": "stdout",
     "output_type": "stream",
     "text": [
      "1. Aşama a: 5\n",
      "Fonksiyonun içinden a: 2\n",
      "İç Fonksiyonda yer alan a: 8\n",
      "2. Aşama a: 2\n"
     ]
    }
   ],
   "source": [
    "a = 5\n",
    "def fonk(b):\n",
    "    global a\n",
    "    a = 2\n",
    "    print(\"Fonksiyonun içinden a:\",a)\n",
    "    def icfonk():\n",
    "        a = 8\n",
    "        print(\"İç Fonksiyonda yer alan a:\",a)\n",
    "    icfonk()\n",
    "print(\"1. Aşama a:\",a)\n",
    "fonk(3)\n",
    "print(\"2. Aşama a:\",a)"
   ]
  },
  {
   "cell_type": "code",
   "execution_count": 31,
   "id": "3d84e0ae",
   "metadata": {},
   "outputs": [
    {
     "name": "stdout",
     "output_type": "stream",
     "text": [
      "1. Aşama a: 5\n",
      "Fonksiyonun içinden a: 2\n",
      "İç Fonksiyonda yer alan a: 8\n",
      "2. Aşama a: 8\n"
     ]
    }
   ],
   "source": [
    "a = 5\n",
    "def fonk(b):\n",
    "    a = 2\n",
    "    print(\"Fonksiyonun içinden a:\",a)\n",
    "    def icfonk():\n",
    "        global a \n",
    "        a = 8\n",
    "        print(\"İç Fonksiyonda yer alan a:\",a)\n",
    "    icfonk()\n",
    "print(\"1. Aşama a:\",a)\n",
    "fonk(3)\n",
    "print(\"2. Aşama a:\",a)"
   ]
  },
  {
   "cell_type": "code",
   "execution_count": 32,
   "id": "bf0dc113",
   "metadata": {},
   "outputs": [
    {
     "name": "stdout",
     "output_type": "stream",
     "text": [
      "1. Aşama a: 5\n",
      "Fonksiyonun içinden a: 2\n",
      "İç Fonksiyonda yer alan a: 8\n",
      "2. Aşama a: 5\n"
     ]
    }
   ],
   "source": [
    "a = 5\n",
    "def fonk(b):\n",
    "    a = 2\n",
    "    print(\"Fonksiyonun içinden a:\",a)\n",
    "    def icfonk():\n",
    "        nonlocal a \n",
    "        a = 8\n",
    "        print(\"İç Fonksiyonda yer alan a:\",a)\n",
    "    icfonk()\n",
    "print(\"1. Aşama a:\",a)\n",
    "fonk(3)\n",
    "print(\"2. Aşama a:\",a)"
   ]
  },
  {
   "cell_type": "code",
   "execution_count": null,
   "id": "6138a24c",
   "metadata": {},
   "outputs": [],
   "source": []
  }
 ],
 "metadata": {
  "kernelspec": {
   "display_name": "Python 3",
   "language": "python",
   "name": "python3"
  },
  "language_info": {
   "codemirror_mode": {
    "name": "ipython",
    "version": 3
   },
   "file_extension": ".py",
   "mimetype": "text/x-python",
   "name": "python",
   "nbconvert_exporter": "python",
   "pygments_lexer": "ipython3",
   "version": "3.12.10"
  }
 },
 "nbformat": 4,
 "nbformat_minor": 5
}
