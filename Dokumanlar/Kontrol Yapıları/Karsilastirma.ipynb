{
 "cells": [
  {
   "cell_type": "markdown",
   "id": "64e778c9",
   "metadata": {},
   "source": [
    "# Karşılaştırma\n",
    "* girinti ==> indentitation\n",
    "* if\n",
    "* else\n",
    "* elif\n",
    "* match case\n"
   ]
  },
  {
   "cell_type": "markdown",
   "id": "3242a26e",
   "metadata": {},
   "source": [
    "## indentitation"
   ]
  },
  {
   "cell_type": "code",
   "execution_count": null,
   "id": "d3a14168",
   "metadata": {},
   "outputs": [],
   "source": [
    "class Sinif:\n",
    "    pass\n",
    "def fonk():\n",
    "    pass\n",
    "if 1 == 1:\n",
    "    pass\n",
    "for item in range(2):\n",
    "    pass\n"
   ]
  },
  {
   "cell_type": "markdown",
   "id": "26d58253",
   "metadata": {},
   "source": [
    "## if"
   ]
  },
  {
   "cell_type": "code",
   "execution_count": 2,
   "id": "259080eb",
   "metadata": {},
   "outputs": [],
   "source": [
    "a = 0\n",
    "liste = []\n",
    "if a:\n",
    "    print(a)"
   ]
  },
  {
   "cell_type": "code",
   "execution_count": 4,
   "id": "2e9568f9",
   "metadata": {},
   "outputs": [
    {
     "name": "stdout",
     "output_type": "stream",
     "text": [
      "3\n"
     ]
    }
   ],
   "source": [
    "a = 3\n",
    "liste = []\n",
    "if a:\n",
    "    print(a)"
   ]
  },
  {
   "cell_type": "code",
   "execution_count": null,
   "id": "b96a4efe",
   "metadata": {},
   "outputs": [
    {
     "name": "stdout",
     "output_type": "stream",
     "text": [
      "4 çift sayıdır\n"
     ]
    }
   ],
   "source": [
    "giris = input(\"Giriş yapınız:\")\n",
    "if giris:\n",
    "    if giris.isdigit():\n",
    "        giris = int(giris)\n",
    "        if giris % 2 == 0:\n",
    "            print(f\"{giris} çift sayıdır\")"
   ]
  },
  {
   "cell_type": "markdown",
   "id": "3fa5bb74",
   "metadata": {},
   "source": [
    "## else"
   ]
  },
  {
   "cell_type": "code",
   "execution_count": 13,
   "id": "7d803be1",
   "metadata": {},
   "outputs": [
    {
     "name": "stdout",
     "output_type": "stream",
     "text": [
      " 45 Tek Sayıdır\n"
     ]
    }
   ],
   "source": [
    "giris = input(\"Giriş yapınız:\")\n",
    "if giris:\n",
    "    if giris.isdigit():\n",
    "        giris = int(giris)\n",
    "        if giris % 2 == 0:\n",
    "            print(f\"{giris} çift sayıdır\")\n",
    "        else:\n",
    "            print(f\" {giris} Tek Sayıdır\")\n",
    "    else:\n",
    "        print(\"Sayı Girilmelidir\")\n",
    "else:\n",
    "    print(\"Giriş Yapılmadı\")"
   ]
  },
  {
   "cell_type": "code",
   "execution_count": null,
   "id": "3581ba18",
   "metadata": {},
   "outputs": [
    {
     "name": "stdout",
     "output_type": "stream",
     "text": [
      "Yanlış Not\n"
     ]
    }
   ],
   "source": [
    "\"\"\"\n",
    "not bilgisi\n",
    "AA 85 - 100\n",
    "BB 70 - 84\n",
    "CC 55 - 69\n",
    "\"\"\"\n",
    "notu = input(\"Notunuzu Giriniz:\")\n",
    "if notu.isdigit():\n",
    "    notu = int(notu)\n",
    "    if   85 <= notu <= 100: #notu > 84 and notu <=100:\n",
    "        print(\"AA\")\n",
    "    else:\n",
    "        if 70<= notu <= 84:\n",
    "            print(\"BB\")\n",
    "        else:\n",
    "            if 55<= notu <= 69:\n",
    "                print(\"CC\")\n",
    "            else:\n",
    "                print(\"Yanlış Not\")\n",
    "else:\n",
    "    print(\"Hatalı Giriş\")   "
   ]
  },
  {
   "cell_type": "code",
   "execution_count": 16,
   "id": "fc6af001",
   "metadata": {},
   "outputs": [
    {
     "name": "stdout",
     "output_type": "stream",
     "text": [
      "AA\n"
     ]
    }
   ],
   "source": [
    "\"\"\"\n",
    "not bilgisi\n",
    "AA 85 - 100\n",
    "BB 70 - 84\n",
    "CC 55 - 69\n",
    "\"\"\"\n",
    "notu = input(\"Notunuzu Giriniz:\")\n",
    "if notu.isdigit():\n",
    "    notu = int(notu)\n",
    "    if   85 <= notu <= 100: #notu > 84 and notu <=100:\n",
    "        print(\"AA\")\n",
    "    elif 70<= notu <= 84:\n",
    "        print(\"BB\")\n",
    "    elif 55<= notu <= 69:\n",
    "        print(\"CC\")\n",
    "    else:\n",
    "        print(\"Yanlış Not\")\n",
    "else:\n",
    "    print(\"Hatalı Giriş\")   "
   ]
  },
  {
   "cell_type": "markdown",
   "id": "0a7b0798",
   "metadata": {},
   "source": [
    "--------------------\n",
    "Tek satırda if"
   ]
  },
  {
   "cell_type": "code",
   "execution_count": 17,
   "id": "d5c60233",
   "metadata": {},
   "outputs": [
    {
     "name": "stdout",
     "output_type": "stream",
     "text": [
      "Tek\n"
     ]
    }
   ],
   "source": [
    "a = 45\n",
    "sonuc = \"Çift\" if a % 2 == 0 else \"Tek\"\n",
    "print(sonuc)"
   ]
  },
  {
   "cell_type": "markdown",
   "id": "519913c8",
   "metadata": {},
   "source": [
    "--------------------"
   ]
  },
  {
   "cell_type": "code",
   "execution_count": 18,
   "id": "c5544f2e",
   "metadata": {},
   "outputs": [
    {
     "name": "stdout",
     "output_type": "stream",
     "text": [
      "2809\n"
     ]
    }
   ],
   "source": [
    "a = 53\n",
    "match a:\n",
    "    case 32:\n",
    "        print(a)\n",
    "    case 53:\n",
    "        print(a**2)\n",
    "    case _:\n",
    "        print(\"Hata Var\")"
   ]
  },
  {
   "cell_type": "code",
   "execution_count": null,
   "id": "fe0cad68",
   "metadata": {},
   "outputs": [],
   "source": []
  }
 ],
 "metadata": {
  "kernelspec": {
   "display_name": "Python 3",
   "language": "python",
   "name": "python3"
  },
  "language_info": {
   "codemirror_mode": {
    "name": "ipython",
    "version": 3
   },
   "file_extension": ".py",
   "mimetype": "text/x-python",
   "name": "python",
   "nbconvert_exporter": "python",
   "pygments_lexer": "ipython3",
   "version": "3.12.10"
  }
 },
 "nbformat": 4,
 "nbformat_minor": 5
}
