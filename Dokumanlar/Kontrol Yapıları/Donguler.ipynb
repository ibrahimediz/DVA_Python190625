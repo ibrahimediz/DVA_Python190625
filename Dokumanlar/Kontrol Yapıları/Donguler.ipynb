{
 "cells": [
  {
   "cell_type": "markdown",
   "id": "1164ea15",
   "metadata": {},
   "source": [
    "# Döngüler\n",
    "* unpacking operator `*`\n",
    "* range\n",
    "* for\n",
    "* while\n",
    "* break\n",
    "* continue\n",
    "* else\n"
   ]
  },
  {
   "cell_type": "markdown",
   "id": "a3d41a88",
   "metadata": {},
   "source": [
    "## unpacking operator `*`"
   ]
  },
  {
   "cell_type": "code",
   "execution_count": 1,
   "id": "5192060f",
   "metadata": {},
   "outputs": [
    {
     "name": "stdout",
     "output_type": "stream",
     "text": [
      "[1, 2, 3, 4, 5, 6, 7]\n"
     ]
    }
   ],
   "source": [
    "liste = [1,2,3,4,5,6,7]\n",
    "print(liste)"
   ]
  },
  {
   "cell_type": "code",
   "execution_count": 3,
   "id": "ec888352",
   "metadata": {},
   "outputs": [
    {
     "name": "stdout",
     "output_type": "stream",
     "text": [
      "1;2;3;4;5;6;7\n"
     ]
    }
   ],
   "source": [
    "liste = [1,2,3,4,5,6,7]\n",
    "print(*liste,sep=\";\")"
   ]
  },
  {
   "cell_type": "code",
   "execution_count": null,
   "id": "63084da6",
   "metadata": {},
   "outputs": [
    {
     "name": "stdout",
     "output_type": "stream",
     "text": [
      "D;i;j;i;t;a;l; ;V;i;z;y;o;n; ;A;k;a;d;e;m;i\n"
     ]
    }
   ],
   "source": [
    "metin = \"Dijital Vizyon Akademi\"\n",
    "print(*metin,sep=\";\")"
   ]
  },
  {
   "cell_type": "markdown",
   "id": "5bede161",
   "metadata": {},
   "source": [
    "## range"
   ]
  },
  {
   "cell_type": "code",
   "execution_count": 5,
   "id": "300dd624",
   "metadata": {},
   "outputs": [
    {
     "name": "stdout",
     "output_type": "stream",
     "text": [
      "0 1 2 3 4\n"
     ]
    }
   ],
   "source": [
    "print(*range(5))"
   ]
  },
  {
   "cell_type": "code",
   "execution_count": 6,
   "id": "d623f1a8",
   "metadata": {},
   "outputs": [
    {
     "name": "stdout",
     "output_type": "stream",
     "text": [
      "1 3 5 7 9\n"
     ]
    }
   ],
   "source": [
    "print(*range(1,10,2))"
   ]
  },
  {
   "cell_type": "code",
   "execution_count": 7,
   "id": "7b63f323",
   "metadata": {},
   "outputs": [
    {
     "name": "stdout",
     "output_type": "stream",
     "text": [
      "10 8 6 4 2\n"
     ]
    }
   ],
   "source": [
    "print(*range(10,1,-2))"
   ]
  },
  {
   "cell_type": "code",
   "execution_count": 8,
   "id": "46bf369f",
   "metadata": {},
   "outputs": [
    {
     "name": "stdout",
     "output_type": "stream",
     "text": [
      "\n"
     ]
    }
   ],
   "source": [
    "print(*range(1,10,-2))"
   ]
  },
  {
   "cell_type": "markdown",
   "id": "dcd773e6",
   "metadata": {},
   "source": [
    "## for"
   ]
  },
  {
   "cell_type": "code",
   "execution_count": null,
   "id": "23580042",
   "metadata": {},
   "outputs": [
    {
     "name": "stdout",
     "output_type": "stream",
     "text": [
      "0\n",
      "1\n",
      "2\n"
     ]
    }
   ],
   "source": [
    "# for (int i=0;i < 10 && devam; i++){\n",
    "    \n",
    "# }\n",
    "\n",
    "for i in range(3):\n",
    "    print(i)"
   ]
  },
  {
   "cell_type": "code",
   "execution_count": 12,
   "id": "490d1ffc",
   "metadata": {},
   "outputs": [
    {
     "name": "stdout",
     "output_type": "stream",
     "text": [
      "1\n",
      "2\n",
      "3\n",
      "4\n",
      "5\n",
      "6\n"
     ]
    }
   ],
   "source": [
    "# foreach obj in objects\n",
    "for item in [1,2,3,4,5,6]:\n",
    "    print(item)"
   ]
  },
  {
   "cell_type": "code",
   "execution_count": 13,
   "id": "a343428b",
   "metadata": {},
   "outputs": [
    {
     "name": "stdout",
     "output_type": "stream",
     "text": [
      "74-85-96-85-74-1-0-2-3-55-8-4-5-65-45-"
     ]
    }
   ],
   "source": [
    "liste = [74,85,96,85,74,1,0,2,3,55,8,4,5,65,45]\n",
    "for item in liste:\n",
    "    print(item,end=\"-\")"
   ]
  },
  {
   "cell_type": "markdown",
   "id": "e375c3d0",
   "metadata": {},
   "source": [
    "## while"
   ]
  },
  {
   "cell_type": "code",
   "execution_count": 17,
   "id": "9a540b42",
   "metadata": {},
   "outputs": [
    {
     "name": "stdout",
     "output_type": "stream",
     "text": [
      "0\n",
      "1\n",
      "2\n",
      "3\n",
      "4\n"
     ]
    }
   ],
   "source": [
    "a = 0\n",
    "while a < 5:\n",
    "    print(a)\n",
    "    a += 1"
   ]
  },
  {
   "cell_type": "markdown",
   "id": "11852519",
   "metadata": {},
   "source": [
    "## else"
   ]
  },
  {
   "cell_type": "code",
   "execution_count": 18,
   "id": "f59b3385",
   "metadata": {},
   "outputs": [
    {
     "name": "stdout",
     "output_type": "stream",
     "text": [
      "0\n",
      "1\n",
      "2\n",
      "Döngü Bitti\n"
     ]
    }
   ],
   "source": [
    "\n",
    "for i in range(3):\n",
    "    print(i)\n",
    "else:\n",
    "    print(\"Döngü Bitti\")"
   ]
  },
  {
   "cell_type": "markdown",
   "id": "e7363b4e",
   "metadata": {},
   "source": [
    "## break"
   ]
  },
  {
   "cell_type": "code",
   "execution_count": 19,
   "id": "93280164",
   "metadata": {},
   "outputs": [
    {
     "name": "stdout",
     "output_type": "stream",
     "text": [
      "0\n",
      "1\n",
      "2\n"
     ]
    }
   ],
   "source": [
    "for i in range(5):\n",
    "    if i ==3:\n",
    "        break\n",
    "    print(i)\n",
    "else:\n",
    "    print(\"Döngü doğru bitti\")"
   ]
  },
  {
   "cell_type": "markdown",
   "id": "0a59fc83",
   "metadata": {},
   "source": [
    "## continue"
   ]
  },
  {
   "cell_type": "code",
   "execution_count": 20,
   "id": "1105efb6",
   "metadata": {},
   "outputs": [
    {
     "name": "stdout",
     "output_type": "stream",
     "text": [
      "0\n",
      "1\n",
      "2\n",
      "4\n",
      "Döngü doğru bitti\n"
     ]
    }
   ],
   "source": [
    "for i in range(5):\n",
    "    if i ==3:\n",
    "        continue\n",
    "    print(i)\n",
    "else:\n",
    "    print(\"Döngü doğru bitti\")"
   ]
  },
  {
   "cell_type": "code",
   "execution_count": 27,
   "id": "420685f7",
   "metadata": {},
   "outputs": [
    {
     "data": {
      "text/plain": [
       "[5,\n",
       " 19,\n",
       " 24,\n",
       " 46,\n",
       " 51,\n",
       " 52,\n",
       " 65,\n",
       " 77,\n",
       " 84,\n",
       " 88,\n",
       " 113,\n",
       " 144,\n",
       " 146,\n",
       " 156,\n",
       " 166,\n",
       " 172,\n",
       " 174,\n",
       " 178,\n",
       " 179,\n",
       " 181]"
      ]
     },
     "execution_count": 27,
     "metadata": {},
     "output_type": "execute_result"
    }
   ],
   "source": [
    "import random as rnd\n",
    "liste = [rnd.randint(1,200) for i in range(20)]\n",
    "liste.sort()\n",
    "liste"
   ]
  },
  {
   "cell_type": "code",
   "execution_count": 29,
   "id": "ef83431f",
   "metadata": {},
   "outputs": [
    {
     "data": {
      "text/plain": [
       "{5: 25,\n",
       " 19: 361,\n",
       " 24: 576,\n",
       " 46: 2116,\n",
       " 51: 2601,\n",
       " 52: 2704,\n",
       " 65: 4225,\n",
       " 77: 5929,\n",
       " 84: 7056,\n",
       " 88: 7744,\n",
       " 113: 12769,\n",
       " 144: 20736,\n",
       " 146: 21316,\n",
       " 156: 24336,\n",
       " 166: 27556,\n",
       " 172: 29584,\n",
       " 174: 30276,\n",
       " 178: 31684,\n",
       " 179: 32041,\n",
       " 181: 32761}"
      ]
     },
     "execution_count": 29,
     "metadata": {},
     "output_type": "execute_result"
    }
   ],
   "source": [
    "kareliste = {item:item**2 for item in liste}\n",
    "kareliste"
   ]
  },
  {
   "cell_type": "code",
   "execution_count": 32,
   "id": "f4938755",
   "metadata": {},
   "outputs": [
    {
     "data": {
      "text/plain": [
       "[576, 2116, 2704, 7056, 7744, 20736, 21316, 24336, 27556, 29584, 30276, 31684]"
      ]
     },
     "execution_count": 32,
     "metadata": {},
     "output_type": "execute_result"
    }
   ],
   "source": [
    "[item**2 for item in liste if not (item % 2)]"
   ]
  },
  {
   "cell_type": "code",
   "execution_count": 40,
   "id": "014bfe97",
   "metadata": {},
   "outputs": [
    {
     "data": {
      "text/plain": [
       "'www.codewars.com/katas/'"
      ]
     },
     "execution_count": 40,
     "metadata": {},
     "output_type": "execute_result"
    }
   ],
   "source": [
    "metin = r\"www.codewars.com/katas/\"\n",
    "metin[:None if metin.find(\"#\") == -1 else metin.find(\"#\")]"
   ]
  },
  {
   "cell_type": "code",
   "execution_count": 39,
   "id": "a631efe0",
   "metadata": {},
   "outputs": [
    {
     "data": {
      "text/plain": [
       "-1"
      ]
     },
     "execution_count": 39,
     "metadata": {},
     "output_type": "execute_result"
    }
   ],
   "source": [
    "metin.find(\"#\")"
   ]
  },
  {
   "cell_type": "code",
   "execution_count": null,
   "id": "7ce8cbae",
   "metadata": {},
   "outputs": [],
   "source": []
  }
 ],
 "metadata": {
  "kernelspec": {
   "display_name": "Python 3",
   "language": "python",
   "name": "python3"
  },
  "language_info": {
   "codemirror_mode": {
    "name": "ipython",
    "version": 3
   },
   "file_extension": ".py",
   "mimetype": "text/x-python",
   "name": "python",
   "nbconvert_exporter": "python",
   "pygments_lexer": "ipython3",
   "version": "3.12.10"
  }
 },
 "nbformat": 4,
 "nbformat_minor": 5
}
