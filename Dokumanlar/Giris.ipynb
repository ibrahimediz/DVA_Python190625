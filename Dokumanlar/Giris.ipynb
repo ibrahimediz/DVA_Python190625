{
 "cells": [
  {
   "cell_type": "markdown",
   "id": "da3a30cb",
   "metadata": {},
   "source": [
    "# Giriş\n",
    "* print,input\n",
    "* Değişkenler\n",
    "* Kontrol Yapıları"
   ]
  },
  {
   "cell_type": "code",
   "execution_count": null,
   "id": "985e085b",
   "metadata": {},
   "outputs": [
    {
     "name": "stdout",
     "output_type": "stream",
     "text": [
      "Merhaba Dünya;74;[2, 3, 4, 1, '4324']-Merhaba Dünya;74;[2, 3, 4, 1, '4324']\n"
     ]
    }
   ],
   "source": [
    "print(\"Merhaba Dünya\",74,[2,3,4,1,\"4324\"],sep=\";\",end=\"-\") # escape sequence \\n\n",
    "print(\"Merhaba Dünya\",74,[2,3,4,1,\"4324\"],sep=\";\")"
   ]
  },
  {
   "cell_type": "code",
   "execution_count": 7,
   "id": "d300668f",
   "metadata": {},
   "outputs": [
    {
     "name": "stdout",
     "output_type": "stream",
     "text": [
      "C:\talat\n",
      "alair.txt\n"
     ]
    }
   ],
   "source": [
    "print(\"C:\\talat\\nalan\\bir.txt\")"
   ]
  },
  {
   "cell_type": "code",
   "execution_count": 10,
   "id": "d62ac365",
   "metadata": {},
   "outputs": [
    {
     "name": "stdout",
     "output_type": "stream",
     "text": [
      "C:\\talat\n",
      "alair.txt\n"
     ]
    }
   ],
   "source": [
    "print(\"C:\\\\talat\\nalan\\bir.txt\")"
   ]
  },
  {
   "cell_type": "code",
   "execution_count": 14,
   "id": "87d62758",
   "metadata": {},
   "outputs": [],
   "source": [
    "print(\"Merhaba Dünya\",74,[2,3,4,1,\"4324\"],sep=\";\",file=open(\"ornek.csv\",\"a+\"))\n",
    "print(\"Merhaba Dünya\",74,[2,3,4,1,\"4324\"],sep=\";\",file=open(\"ornek.csv\",\"a+\"))\n",
    "print(\"Merhaba Dünya\",74,[2,3,4,1,\"4324\"],sep=\";\",file=open(\"ornek.csv\",\"a+\"))\n",
    "print(\"Merhaba Dünya\",74,[2,3,4,1,\"4324\"],sep=\";\",file=open(\"ornek.csv\",\"a+\"))\n",
    "print(\"Merhaba Dünya\",74,[2,3,4,1,\"4324\"],sep=\";\",file=open(\"ornek.csv\",\"a+\"))\n",
    "print(\"Merhaba Dünya\",74,[2,3,4,1,\"4324\"],sep=\";\",file=open(\"ornek.csv\",\"a+\"))\n",
    "print(\"Merhaba Dünya\",74,[2,3,4,1,\"4324\"],sep=\";\",file=open(\"ornek.csv\",\"a+\"))"
   ]
  },
  {
   "cell_type": "code",
   "execution_count": 15,
   "id": "2a3833bc",
   "metadata": {},
   "outputs": [],
   "source": [
    "var1 = input(\"1. sayıyı giriniz:\")"
   ]
  },
  {
   "cell_type": "code",
   "execution_count": 16,
   "id": "a41b40ea",
   "metadata": {},
   "outputs": [
    {
     "data": {
      "text/plain": [
       "'12'"
      ]
     },
     "execution_count": 16,
     "metadata": {},
     "output_type": "execute_result"
    }
   ],
   "source": [
    "var1"
   ]
  },
  {
   "cell_type": "markdown",
   "id": "d27255cc",
   "metadata": {},
   "source": [
    "## Değişkenler\n",
    "* int\n",
    "* float\n",
    "* complex\n",
    "* str\n",
    "* list\n",
    "* tuple\n",
    "* dict\n",
    "* set\n",
    "* bool"
   ]
  },
  {
   "cell_type": "code",
   "execution_count": 17,
   "id": "db22f0e6",
   "metadata": {},
   "outputs": [],
   "source": [
    "var1 = 2 # int\n",
    "var2 = 2.0 # float\n",
    "var3 = 2.3 + 1j # complex\n",
    "var4 = \"2\" # str\n",
    "var5 = [1,2,3,print,input,[1,2,3,4],(1,2,3,)] # list\n",
    "var6 = (1,2,3,print,input,[1,2,3,4],(1,2,3,)) # tuple\n",
    "var7 = {\"1\":\"Bir\",\"2\":\"iki\"} # dict\n",
    "var8 = {1,2} # set\n",
    "var9 = True # bool"
   ]
  },
  {
   "cell_type": "code",
   "execution_count": 18,
   "id": "155075af",
   "metadata": {},
   "outputs": [],
   "source": [
    "a = 5\n",
    "a = \"5\""
   ]
  },
  {
   "cell_type": "code",
   "execution_count": 21,
   "id": "0100a60d",
   "metadata": {},
   "outputs": [
    {
     "data": {
      "text/plain": [
       "int"
      ]
     },
     "execution_count": 21,
     "metadata": {},
     "output_type": "execute_result"
    }
   ],
   "source": [
    "type(var1)"
   ]
  },
  {
   "cell_type": "code",
   "execution_count": 22,
   "id": "f3f1325e",
   "metadata": {},
   "outputs": [
    {
     "name": "stdout",
     "output_type": "stream",
     "text": [
      "<class 'int'>\n"
     ]
    }
   ],
   "source": [
    "print(type(var1))"
   ]
  },
  {
   "cell_type": "code",
   "execution_count": 25,
   "id": "ffe6fd2d",
   "metadata": {},
   "outputs": [
    {
     "data": {
      "text/plain": [
       "(1.0, 2.3)"
      ]
     },
     "execution_count": 25,
     "metadata": {},
     "output_type": "execute_result"
    }
   ],
   "source": [
    "var3 = 2.3 + 1j # complex\n",
    "var3.imag,var3.real"
   ]
  },
  {
   "cell_type": "code",
   "execution_count": 26,
   "id": "f2e9096b",
   "metadata": {},
   "outputs": [],
   "source": [
    "var4 = \"2\" # str\n",
    "var5 = [1,2,3,print,input,[1,2,3,4],(1,2,3,)] # list\n",
    "var6 = (1,2,3,print,input,[1,2,3,4],(1,2,3,)) # tuple"
   ]
  },
  {
   "cell_type": "code",
   "execution_count": null,
   "id": "1a5dc564",
   "metadata": {},
   "outputs": [
    {
     "data": {
      "text/plain": [
       "'D'"
      ]
     },
     "execution_count": 27,
     "metadata": {},
     "output_type": "execute_result"
    }
   ],
   "source": [
    "var4 = \"Dijital\"\n",
    "#.      0123456\n",
    "#.     -7-6-5-4-3-2-1\n",
    "var4[0]"
   ]
  },
  {
   "cell_type": "code",
   "execution_count": 28,
   "id": "1f7cbd2f",
   "metadata": {},
   "outputs": [
    {
     "data": {
      "text/plain": [
       "'Dij'"
      ]
     },
     "execution_count": 28,
     "metadata": {},
     "output_type": "execute_result"
    }
   ],
   "source": [
    "var4[0:3] # 0 1 2"
   ]
  },
  {
   "cell_type": "code",
   "execution_count": 29,
   "id": "9c4376b1",
   "metadata": {},
   "outputs": [
    {
     "data": {
      "text/plain": [
       "'l'"
      ]
     },
     "execution_count": 29,
     "metadata": {},
     "output_type": "execute_result"
    }
   ],
   "source": [
    "var4[-1] # 6"
   ]
  },
  {
   "cell_type": "code",
   "execution_count": 30,
   "id": "1d34bed3",
   "metadata": {},
   "outputs": [
    {
     "data": {
      "text/plain": [
       "'Dij'"
      ]
     },
     "execution_count": 30,
     "metadata": {},
     "output_type": "execute_result"
    }
   ],
   "source": [
    "var4[0:-4] # 0 1 2"
   ]
  },
  {
   "cell_type": "code",
   "execution_count": 31,
   "id": "5bd1b573",
   "metadata": {},
   "outputs": [
    {
     "data": {
      "text/plain": [
       "'Dij'"
      ]
     },
     "execution_count": 31,
     "metadata": {},
     "output_type": "execute_result"
    }
   ],
   "source": [
    "var4[:-4] # 0 1 2"
   ]
  },
  {
   "cell_type": "code",
   "execution_count": null,
   "id": "2e534158",
   "metadata": {},
   "outputs": [
    {
     "data": {
      "text/plain": [
       "'ital'"
      ]
     },
     "execution_count": 32,
     "metadata": {},
     "output_type": "execute_result"
    }
   ],
   "source": [
    "var4[3:]"
   ]
  },
  {
   "cell_type": "code",
   "execution_count": null,
   "id": "ccb4f355",
   "metadata": {},
   "outputs": [
    {
     "data": {
      "text/plain": [
       "'Djt'"
      ]
     },
     "execution_count": 33,
     "metadata": {},
     "output_type": "execute_result"
    }
   ],
   "source": [
    "var4[0:5:2] # 0 2 4"
   ]
  },
  {
   "cell_type": "code",
   "execution_count": 34,
   "id": "22add0da",
   "metadata": {},
   "outputs": [
    {
     "data": {
      "text/plain": [
       "'latijiD'"
      ]
     },
     "execution_count": 34,
     "metadata": {},
     "output_type": "execute_result"
    }
   ],
   "source": [
    "var4[::-1]"
   ]
  },
  {
   "cell_type": "code",
   "execution_count": 42,
   "id": "8f81f177",
   "metadata": {},
   "outputs": [
    {
     "data": {
      "text/plain": [
       "['a', 'b', 'c', 'd', 'e', 100]"
      ]
     },
     "execution_count": 42,
     "metadata": {},
     "output_type": "execute_result"
    }
   ],
   "source": [
    "liste = [\"a\",\"b\",\"c\",\"d\",\"e\"]\n",
    "liste.append(100)\n",
    "liste"
   ]
  },
  {
   "cell_type": "code",
   "execution_count": 43,
   "id": "dead47cb",
   "metadata": {},
   "outputs": [
    {
     "data": {
      "text/plain": [
       "[1000, 'a', 'b', 'c', 'd', 'e', 100]"
      ]
     },
     "execution_count": 43,
     "metadata": {},
     "output_type": "execute_result"
    }
   ],
   "source": [
    "liste.insert(0,1000)\n",
    "liste"
   ]
  },
  {
   "cell_type": "code",
   "execution_count": 51,
   "id": "e69a8131",
   "metadata": {},
   "outputs": [
    {
     "data": {
      "text/plain": [
       "[1, 2, 3, 4, 5, 6]"
      ]
     },
     "execution_count": 51,
     "metadata": {},
     "output_type": "execute_result"
    }
   ],
   "source": [
    "l1 = [1,2,3]\n",
    "l2 = [4,5,6]\n",
    "l1 + l2 # concatenate"
   ]
  },
  {
   "cell_type": "code",
   "execution_count": 52,
   "id": "8716d8e0",
   "metadata": {},
   "outputs": [
    {
     "data": {
      "text/plain": [
       "[1, 2, 3, 4, 5, 6]"
      ]
     },
     "execution_count": 52,
     "metadata": {},
     "output_type": "execute_result"
    }
   ],
   "source": [
    "l1.extend(l2)\n",
    "l1"
   ]
  },
  {
   "cell_type": "code",
   "execution_count": 54,
   "id": "8ccaef08",
   "metadata": {},
   "outputs": [
    {
     "data": {
      "text/plain": [
       "[1, 2, 3, 4, 10000, 6]"
      ]
     },
     "execution_count": 54,
     "metadata": {},
     "output_type": "execute_result"
    }
   ],
   "source": [
    "l1[4] = 10000\n",
    "l1"
   ]
  },
  {
   "cell_type": "markdown",
   "id": "717b7eca",
   "metadata": {},
   "source": [
    "list bir mutable veri tipidir. immutable veri tipi ise tuple ve str veri tipleridir"
   ]
  },
  {
   "cell_type": "code",
   "execution_count": 55,
   "id": "037fbb7d",
   "metadata": {},
   "outputs": [
    {
     "ename": "TypeError",
     "evalue": "'str' object does not support item assignment",
     "output_type": "error",
     "traceback": [
      "\u001b[31m---------------------------------------------------------------------------\u001b[39m",
      "\u001b[31mTypeError\u001b[39m                                 Traceback (most recent call last)",
      "\u001b[36mCell\u001b[39m\u001b[36m \u001b[39m\u001b[32mIn[55]\u001b[39m\u001b[32m, line 2\u001b[39m\n\u001b[32m      1\u001b[39m metin = \u001b[33m\"\u001b[39m\u001b[33mDijital\u001b[39m\u001b[33m\"\u001b[39m\n\u001b[32m----> \u001b[39m\u001b[32m2\u001b[39m \u001b[43mmetin\u001b[49m\u001b[43m[\u001b[49m\u001b[32;43m2\u001b[39;49m\u001b[43m]\u001b[49m = \u001b[33m\"\u001b[39m\u001b[33mA\u001b[39m\u001b[33m\"\u001b[39m\n\u001b[32m      3\u001b[39m \u001b[38;5;28mprint\u001b[39m(metin)\n",
      "\u001b[31mTypeError\u001b[39m: 'str' object does not support item assignment"
     ]
    }
   ],
   "source": [
    "metin = \"Dijital\"\n",
    "metin[2] = \"A\"\n",
    "print(metin)"
   ]
  },
  {
   "cell_type": "code",
   "execution_count": 56,
   "id": "c6aeaecc",
   "metadata": {},
   "outputs": [
    {
     "ename": "TypeError",
     "evalue": "'tuple' object does not support item assignment",
     "output_type": "error",
     "traceback": [
      "\u001b[31m---------------------------------------------------------------------------\u001b[39m",
      "\u001b[31mTypeError\u001b[39m                                 Traceback (most recent call last)",
      "\u001b[36mCell\u001b[39m\u001b[36m \u001b[39m\u001b[32mIn[56]\u001b[39m\u001b[32m, line 2\u001b[39m\n\u001b[32m      1\u001b[39m demet = (\u001b[32m1\u001b[39m,\u001b[32m2\u001b[39m,\u001b[32m3\u001b[39m,\u001b[32m4\u001b[39m,\u001b[32m5\u001b[39m,\u001b[32m6\u001b[39m)\n\u001b[32m----> \u001b[39m\u001b[32m2\u001b[39m \u001b[43mdemet\u001b[49m\u001b[43m[\u001b[49m\u001b[32;43m4\u001b[39;49m\u001b[43m]\u001b[49m = \u001b[32m1000\u001b[39m\n\u001b[32m      3\u001b[39m \u001b[38;5;28mprint\u001b[39m(demet)\n",
      "\u001b[31mTypeError\u001b[39m: 'tuple' object does not support item assignment"
     ]
    }
   ],
   "source": [
    "demet = (1,2,3,4,5,6)\n",
    "demet[4] = 1000\n",
    "print(demet)"
   ]
  },
  {
   "cell_type": "code",
   "execution_count": 58,
   "id": "85728ae3",
   "metadata": {},
   "outputs": [
    {
     "data": {
      "text/plain": [
       "'Bir'"
      ]
     },
     "execution_count": 58,
     "metadata": {},
     "output_type": "execute_result"
    }
   ],
   "source": [
    "sozluk = {\"1\":\"Bir\"}\n",
    "#.        key:value\n",
    "#         item\n",
    "sozluk[\"1\"]"
   ]
  },
  {
   "cell_type": "code",
   "execution_count": 60,
   "id": "1a1e10b4",
   "metadata": {},
   "outputs": [
    {
     "data": {
      "text/plain": [
       "'Bir'"
      ]
     },
     "execution_count": 60,
     "metadata": {},
     "output_type": "execute_result"
    }
   ],
   "source": [
    "sozluk.get(\"1\")"
   ]
  },
  {
   "cell_type": "code",
   "execution_count": 61,
   "id": "c1f1e704",
   "metadata": {},
   "outputs": [
    {
     "data": {
      "text/plain": [
       "'Sıfır'"
      ]
     },
     "execution_count": 61,
     "metadata": {},
     "output_type": "execute_result"
    }
   ],
   "source": [
    "sozluk.setdefault(\"0\",\"Sıfır\")"
   ]
  },
  {
   "cell_type": "code",
   "execution_count": 62,
   "id": "bb4205bd",
   "metadata": {},
   "outputs": [
    {
     "data": {
      "text/plain": [
       "{'1': 'Bir', '0': 'Sıfır'}"
      ]
     },
     "execution_count": 62,
     "metadata": {},
     "output_type": "execute_result"
    }
   ],
   "source": [
    "sozluk"
   ]
  },
  {
   "cell_type": "code",
   "execution_count": 63,
   "id": "e45d589a",
   "metadata": {},
   "outputs": [
    {
     "data": {
      "text/plain": [
       "{'1': 'One', '0': 'Sıfır'}"
      ]
     },
     "execution_count": 63,
     "metadata": {},
     "output_type": "execute_result"
    }
   ],
   "source": [
    "sozluk = {'1': 'Bir', '0': 'Sıfır',\"1\":\"One\"}\n",
    "sozluk"
   ]
  },
  {
   "cell_type": "code",
   "execution_count": 64,
   "id": "f7d68970",
   "metadata": {},
   "outputs": [
    {
     "data": {
      "text/plain": [
       "{'1': 'One', '0': 'Sıfır', '2': 'İki'}"
      ]
     },
     "execution_count": 64,
     "metadata": {},
     "output_type": "execute_result"
    }
   ],
   "source": [
    "sozluk[\"2\"] = \"İki\"\n",
    "sozluk"
   ]
  },
  {
   "cell_type": "code",
   "execution_count": 65,
   "id": "48883cca",
   "metadata": {},
   "outputs": [
    {
     "data": {
      "text/plain": [
       "dict_keys(['1', '0', '2'])"
      ]
     },
     "execution_count": 65,
     "metadata": {},
     "output_type": "execute_result"
    }
   ],
   "source": [
    "sozluk.keys()"
   ]
  },
  {
   "cell_type": "code",
   "execution_count": 66,
   "id": "6183f210",
   "metadata": {},
   "outputs": [
    {
     "data": {
      "text/plain": [
       "dict_values(['One', 'Sıfır', 'İki'])"
      ]
     },
     "execution_count": 66,
     "metadata": {},
     "output_type": "execute_result"
    }
   ],
   "source": [
    "sozluk.values()"
   ]
  },
  {
   "cell_type": "code",
   "execution_count": 67,
   "id": "99c60b1b",
   "metadata": {},
   "outputs": [
    {
     "data": {
      "text/plain": [
       "dict_items([('1', 'One'), ('0', 'Sıfır'), ('2', 'İki')])"
      ]
     },
     "execution_count": 67,
     "metadata": {},
     "output_type": "execute_result"
    }
   ],
   "source": [
    "sozluk.items()"
   ]
  },
  {
   "cell_type": "code",
   "execution_count": null,
   "id": "b857e54b",
   "metadata": {},
   "outputs": [],
   "source": []
  }
 ],
 "metadata": {
  "kernelspec": {
   "display_name": "Python 3",
   "language": "python",
   "name": "python3"
  },
  "language_info": {
   "codemirror_mode": {
    "name": "ipython",
    "version": 3
   },
   "file_extension": ".py",
   "mimetype": "text/x-python",
   "name": "python",
   "nbconvert_exporter": "python",
   "pygments_lexer": "ipython3",
   "version": "3.12.10"
  }
 },
 "nbformat": 4,
 "nbformat_minor": 5
}
