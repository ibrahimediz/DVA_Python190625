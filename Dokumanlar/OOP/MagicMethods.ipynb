{
 "cells": [
  {
   "cell_type": "markdown",
   "id": "e58947f1",
   "metadata": {},
   "source": [
    "# Magic Methods"
   ]
  },
  {
   "cell_type": "code",
   "execution_count": 2,
   "id": "d8dbdfb6",
   "metadata": {},
   "outputs": [
    {
     "name": "stdout",
     "output_type": "stream",
     "text": [
      "Astalavista BABY\n"
     ]
    }
   ],
   "source": [
    "class A:\n",
    "    def __init__(self,a):\n",
    "        self.a = a\n",
    "\n",
    "    def __del__(self):  # destructor\n",
    "        print(\"Astalavista BABY\")\n",
    "    \n",
    "\n",
    "\n",
    "obj1 = A(3)\n",
    "del obj1"
   ]
  },
  {
   "cell_type": "code",
   "execution_count": 12,
   "id": "3ad2515a",
   "metadata": {},
   "outputs": [
    {
     "name": "stdout",
     "output_type": "stream",
     "text": [
      "3\n"
     ]
    },
    {
     "data": {
      "text/plain": [
       "7"
      ]
     },
     "execution_count": 12,
     "metadata": {},
     "output_type": "execute_result"
    }
   ],
   "source": [
    "class A:\n",
    "    def __init__(self,a):\n",
    "        self.a = a\n",
    "\n",
    "    # def __del__(self):  # destructor\n",
    "    #     print(\"Astalavista BABY\")\n",
    "    \n",
    "    def __lt__(self,obj):\n",
    "        return obj.a > self.a\n",
    "\n",
    "    def __str__(self):\n",
    "        return str(self.a)\n",
    "\n",
    "\n",
    "    def __add__(self,obj):\n",
    "        return obj.a + self.a\n",
    "\n",
    "\n",
    "\n",
    "\n",
    "obj1 = A(3)\n",
    "obj2 = A(4)\n",
    "obj1 > obj2\n",
    "print(obj1)\n",
    "obj1 + obj2"
   ]
  },
  {
   "cell_type": "code",
   "execution_count": null,
   "id": "ed86a075",
   "metadata": {},
   "outputs": [
    {
     "data": {
      "text/plain": [
       "['__class__',\n",
       " '__delattr__',\n",
       " '__dict__',\n",
       " '__dir__',\n",
       " '__doc__',\n",
       " '__eq__',\n",
       " '__format__',\n",
       " '__ge__',\n",
       " '__getattribute__',\n",
       " '__getstate__',\n",
       " '__gt__',\n",
       " '__hash__',\n",
       " '__init__',\n",
       " '__init_subclass__',\n",
       " '__le__',\n",
       " '__lt__',\n",
       " '__module__',\n",
       " '__ne__',\n",
       " '__new__',\n",
       " '__reduce__',\n",
       " '__reduce_ex__',\n",
       " '__repr__',\n",
       " '__setattr__',\n",
       " '__sizeof__',\n",
       " '__str__',\n",
       " '__subclasshook__',\n",
       " '__weakref__']"
      ]
     },
     "execution_count": 11,
     "metadata": {},
     "output_type": "execute_result"
    }
   ],
   "source": [
    "# class Sinif:\n",
    "#     \"\"\"\n",
    "#     Sınıf Boş\n",
    "#     \"\"\"\n",
    "#     pass\n",
    "# dir(Sinif)\n",
    "# Sinif()"
   ]
  },
  {
   "cell_type": "code",
   "execution_count": null,
   "id": "6eec2fdb",
   "metadata": {},
   "outputs": [],
   "source": []
  }
 ],
 "metadata": {
  "kernelspec": {
   "display_name": "Python 3",
   "language": "python",
   "name": "python3"
  },
  "language_info": {
   "codemirror_mode": {
    "name": "ipython",
    "version": 3
   },
   "file_extension": ".py",
   "mimetype": "text/x-python",
   "name": "python",
   "nbconvert_exporter": "python",
   "pygments_lexer": "ipython3",
   "version": "3.12.10"
  }
 },
 "nbformat": 4,
 "nbformat_minor": 5
}
