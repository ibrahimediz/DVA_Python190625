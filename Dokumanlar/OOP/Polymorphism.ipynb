{
 "cells": [
  {
   "cell_type": "markdown",
   "id": "8a1845e1",
   "metadata": {},
   "source": [
    "# Polymorphism"
   ]
  },
  {
   "cell_type": "code",
   "execution_count": 2,
   "id": "c4a83056",
   "metadata": {},
   "outputs": [
    {
     "name": "stdout",
     "output_type": "stream",
     "text": [
      "##############################\n",
      "Üçgen\n",
      "3\n",
      "İç Açı Toplamı 180\n",
      "##############################\n",
      "##############################\n",
      "Kare\n",
      "4\n",
      "İç Açı Toplamı 360\n",
      "##############################\n"
     ]
    }
   ],
   "source": [
    "class Cokgen:\n",
    "    tip = \"Cokgen\"\n",
    "    def __init__(self,adi,kenarsayisi,*args,**kwargs):\n",
    "        self.adi = adi\n",
    "        self.kenarsayisi = kenarsayisi\n",
    "\n",
    "    def bilgiVer(self):\n",
    "        print(\"#\"*30)\n",
    "        print(self.adi)\n",
    "        print(self.kenarsayisi)\n",
    "        print(f\"İç Açı Toplamı {(self.kenarsayisi-2)*180}\")\n",
    "        print(\"#\"*30)\n",
    "\n",
    "\n",
    "ucgen = Cokgen(\"Üçgen\",3)\n",
    "kare = Cokgen(\"Kare\",4)\n",
    "\n",
    "def fonk(obj):\n",
    "    obj.bilgiVer()\n",
    "\n",
    "liste = [ucgen,kare]\n",
    "for item in liste:\n",
    "    fonk(item)\n",
    "    "
   ]
  },
  {
   "cell_type": "code",
   "execution_count": null,
   "id": "1ecc5509",
   "metadata": {},
   "outputs": [],
   "source": [
    "class A:\n",
    "    def __init__(self):\n",
    "        self.a = \"A\"\n",
    "    \n",
    "    def soyle(self):\n",
    "        print(\"A Sınıfından Çalıştım\")\n",
    "\n",
    "    def soyleA(self):\n",
    "        print(self.a)\n",
    "\n",
    "class B(A):\n",
    "    def __init__(self): #overwrite\n",
    "        super().__init__() \n",
    "        self.b = \"B\"\n",
    "\n",
    "    def soyleB(self):\n",
    "        print(self.b)\n",
    "obj = B()\n",
    "obj.soyle()\n",
    "obj.soyleB()\n",
    "obj.soyleA()"
   ]
  },
  {
   "cell_type": "code",
   "execution_count": null,
   "id": "2bb5b682",
   "metadata": {},
   "outputs": [],
   "source": [
    "# def fonk(int a,int b):\n",
    "#     pass \n",
    "\n",
    "# def fonk(int a,int b,int c):\n",
    "#     pass \n",
    "\n",
    "def fonk(a,b,*args,**kwargs): # overload\n",
    "    pass "
   ]
  }
 ],
 "metadata": {
  "kernelspec": {
   "display_name": "Python 3",
   "language": "python",
   "name": "python3"
  },
  "language_info": {
   "codemirror_mode": {
    "name": "ipython",
    "version": 3
   },
   "file_extension": ".py",
   "mimetype": "text/x-python",
   "name": "python",
   "nbconvert_exporter": "python",
   "pygments_lexer": "ipython3",
   "version": "3.12.10"
  }
 },
 "nbformat": 4,
 "nbformat_minor": 5
}
