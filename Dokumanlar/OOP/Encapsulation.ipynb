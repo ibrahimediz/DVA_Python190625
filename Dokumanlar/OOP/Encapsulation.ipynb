{
 "cells": [
  {
   "cell_type": "markdown",
   "id": "02cc59ff",
   "metadata": {},
   "source": [
    "# Encapsulation"
   ]
  },
  {
   "cell_type": "markdown",
   "id": "f01bc95e",
   "metadata": {},
   "source": [
    "```\n",
    "__gizli\n",
    "__gizli_\n",
    "__gizlidegil__\n",
    "_yarigizli\n",
    "```"
   ]
  },
  {
   "cell_type": "code",
   "execution_count": 2,
   "id": "2790eebf",
   "metadata": {},
   "outputs": [
    {
     "ename": "AttributeError",
     "evalue": "'Sinif' object has no attribute '__gizli'",
     "output_type": "error",
     "traceback": [
      "\u001b[31m---------------------------------------------------------------------------\u001b[39m",
      "\u001b[31mAttributeError\u001b[39m                            Traceback (most recent call last)",
      "\u001b[36mCell\u001b[39m\u001b[36m \u001b[39m\u001b[32mIn[2]\u001b[39m\u001b[32m, line 6\u001b[39m\n\u001b[32m      3\u001b[39m         \u001b[38;5;28mself\u001b[39m.__gizli = \u001b[33m\"\u001b[39m\u001b[33mGizli\u001b[39m\u001b[33m\"\u001b[39m\n\u001b[32m      5\u001b[39m obj = Sinif()\n\u001b[32m----> \u001b[39m\u001b[32m6\u001b[39m \u001b[43mobj\u001b[49m\u001b[43m.\u001b[49m\u001b[43m__gizli\u001b[49m\n",
      "\u001b[31mAttributeError\u001b[39m: 'Sinif' object has no attribute '__gizli'"
     ]
    }
   ],
   "source": [
    "class Sinif:\n",
    "    def __init__(self):\n",
    "        self.__gizli = \"Gizli\"\n",
    "\n",
    "obj = Sinif()\n",
    "obj.__gizli"
   ]
  },
  {
   "cell_type": "code",
   "execution_count": 6,
   "id": "a715a19d",
   "metadata": {},
   "outputs": [
    {
     "ename": "Exception",
     "evalue": "Yetki Hatası",
     "output_type": "error",
     "traceback": [
      "\u001b[31m---------------------------------------------------------------------------\u001b[39m",
      "\u001b[31mException\u001b[39m                                 Traceback (most recent call last)",
      "\u001b[36mCell\u001b[39m\u001b[36m \u001b[39m\u001b[32mIn[6]\u001b[39m\u001b[32m, line 14\u001b[39m\n\u001b[32m     11\u001b[39m             \u001b[38;5;28;01mraise\u001b[39;00m \u001b[38;5;167;01mException\u001b[39;00m(\u001b[33m\"\u001b[39m\u001b[33mYetki Hatası\u001b[39m\u001b[33m\"\u001b[39m)\n\u001b[32m     13\u001b[39m obj = Sinif(\u001b[32m2\u001b[39m)\n\u001b[32m---> \u001b[39m\u001b[32m14\u001b[39m \u001b[43mobj\u001b[49m\u001b[43m.\u001b[49m\u001b[43mgizli\u001b[49m\u001b[43m(\u001b[49m\u001b[43m)\u001b[49m\n",
      "\u001b[36mCell\u001b[39m\u001b[36m \u001b[39m\u001b[32mIn[6]\u001b[39m\u001b[32m, line 11\u001b[39m, in \u001b[36mSinif.gizli\u001b[39m\u001b[34m(self)\u001b[39m\n\u001b[32m      9\u001b[39m     \u001b[38;5;28;01mreturn\u001b[39;00m \u001b[38;5;28mself\u001b[39m.__gizli\n\u001b[32m     10\u001b[39m \u001b[38;5;28;01melse\u001b[39;00m:\n\u001b[32m---> \u001b[39m\u001b[32m11\u001b[39m     \u001b[38;5;28;01mraise\u001b[39;00m \u001b[38;5;167;01mException\u001b[39;00m(\u001b[33m\"\u001b[39m\u001b[33mYetki Hatası\u001b[39m\u001b[33m\"\u001b[39m)\n",
      "\u001b[31mException\u001b[39m: Yetki Hatası"
     ]
    }
   ],
   "source": [
    "class Sinif:\n",
    "    def __init__(self,yetki):\n",
    "        self.__gizli = \"Gizli\"\n",
    "        self.yetki = yetki\n",
    "\n",
    "    # getter\n",
    "    def gizli(self):\n",
    "        if self.yetki == 1:\n",
    "            return self.__gizli\n",
    "        else:\n",
    "            raise Exception(\"Yetki Hatası\")\n",
    "\n",
    "obj = Sinif(2)\n",
    "obj.gizli()"
   ]
  },
  {
   "cell_type": "code",
   "execution_count": 9,
   "id": "4f9fcb49",
   "metadata": {},
   "outputs": [
    {
     "data": {
      "text/plain": [
       "'Gizli'"
      ]
     },
     "execution_count": 9,
     "metadata": {},
     "output_type": "execute_result"
    }
   ],
   "source": [
    "class Sinif:\n",
    "    def __init__(self,yetki):\n",
    "        self.__gizli = \"Gizli\"\n",
    "        self.yetki = yetki\n",
    "\n",
    "    # getter\n",
    "    @property\n",
    "    def gizli(self):\n",
    "        if self.yetki == 1:\n",
    "            return self.__gizli\n",
    "        else:\n",
    "            raise Exception(\"Yetki Hatası\")\n",
    "\n",
    "obj = Sinif(1)\n",
    "obj.gizli"
   ]
  },
  {
   "cell_type": "code",
   "execution_count": 13,
   "id": "e9d2ead0",
   "metadata": {},
   "outputs": [
    {
     "name": "stdout",
     "output_type": "stream",
     "text": [
      "Gizli\n",
      "25\n"
     ]
    }
   ],
   "source": [
    "class Sinif:\n",
    "    def __init__(self,yetki):\n",
    "        self.__gizli = \"Gizli\"\n",
    "        self.yetki = yetki\n",
    "\n",
    "    # getter\n",
    "    @property\n",
    "    def gizli(self):\n",
    "        if self.yetki == 1:\n",
    "            return self.__gizli\n",
    "        else:\n",
    "            raise Exception(\"Yetki Hatası\")\n",
    "\n",
    "\n",
    "    @gizli.setter\n",
    "    def gizli(self,param):\n",
    "        if self.yetki == 1:\n",
    "            if type(param) == int:\n",
    "                if param in range(30):\n",
    "                    self.__gizli = param\n",
    "                else:\n",
    "                    raise ValueError(\"Değer Hatası\")\n",
    "            else:\n",
    "                raise ValueError(\"Değer Hatası\")\n",
    "        else:\n",
    "            raise Exception(\"Yetki Hatası\")\n",
    "\n",
    "\n",
    "obj = Sinif(1)\n",
    "print(obj.gizli)\n",
    "obj.gizli = 25\n",
    "print(obj.gizli)"
   ]
  },
  {
   "cell_type": "code",
   "execution_count": 15,
   "id": "4c1d0616",
   "metadata": {},
   "outputs": [
    {
     "name": "stdout",
     "output_type": "stream",
     "text": [
      "Gizli\n",
      "25\n",
      "-25\n"
     ]
    }
   ],
   "source": [
    "class Sinif:\n",
    "    def __init__(self,yetki):\n",
    "        self.__gizli = \"Gizli\"\n",
    "        self.yetki = yetki\n",
    "\n",
    "    # getter\n",
    "    @property\n",
    "    def gizli(self):\n",
    "        if self.yetki == 1:\n",
    "            return self.__gizli\n",
    "        else:\n",
    "            raise Exception(\"Yetki Hatası\")\n",
    "\n",
    "\n",
    "    @gizli.setter\n",
    "    def gizli(self,param):\n",
    "        if self.yetki == 1:\n",
    "            if type(param) == int:\n",
    "                if param in range(30):\n",
    "                    self.__gizli = param\n",
    "                else:\n",
    "                    raise ValueError(\"Değer Hatası\")\n",
    "            else:\n",
    "                raise ValueError(\"Değer Hatası\")\n",
    "        else:\n",
    "            raise Exception(\"Yetki Hatası\")\n",
    "\n",
    "    @gizli.deleter\n",
    "    def gizli(self):\n",
    "        if self.yetki == 1:\n",
    "            self.__gizli *= -1\n",
    "        else:\n",
    "            raise Exception(\"Yetki Hatası\")\n",
    "\n",
    "obj = Sinif(1)\n",
    "print(obj.gizli)\n",
    "obj.gizli = 25\n",
    "print(obj.gizli)\n",
    "del obj.gizli\n",
    "print(obj.gizli)"
   ]
  },
  {
   "cell_type": "code",
   "execution_count": null,
   "id": "ee44af7d",
   "metadata": {},
   "outputs": [],
   "source": []
  }
 ],
 "metadata": {
  "kernelspec": {
   "display_name": "Python 3",
   "language": "python",
   "name": "python3"
  },
  "language_info": {
   "codemirror_mode": {
    "name": "ipython",
    "version": 3
   },
   "file_extension": ".py",
   "mimetype": "text/x-python",
   "name": "python",
   "nbconvert_exporter": "python",
   "pygments_lexer": "ipython3",
   "version": "3.12.10"
  }
 },
 "nbformat": 4,
 "nbformat_minor": 5
}
