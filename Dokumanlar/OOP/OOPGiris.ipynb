{
 "cells": [
  {
   "cell_type": "markdown",
   "id": "dccec414",
   "metadata": {},
   "source": [
    "# Giris\n",
    "* class ve instance\n",
    "* attribute ve method\n",
    "* constructor\n",
    "* destructor"
   ]
  },
  {
   "cell_type": "code",
   "execution_count": 2,
   "id": "99b307ca",
   "metadata": {},
   "outputs": [
    {
     "data": {
      "text/plain": [
       "type"
      ]
     },
     "execution_count": 2,
     "metadata": {},
     "output_type": "execute_result"
    }
   ],
   "source": [
    "class Sinif:\n",
    "    pass\n",
    "type(Sinif)"
   ]
  },
  {
   "cell_type": "code",
   "execution_count": null,
   "id": "334a5a4c",
   "metadata": {},
   "outputs": [
    {
     "name": "stdout",
     "output_type": "stream",
     "text": [
      "<class '__main__.Sinif'>\n"
     ]
    }
   ],
   "source": [
    "obj = Sinif()\n",
    "print(type(obj))"
   ]
  },
  {
   "cell_type": "code",
   "execution_count": 6,
   "id": "6c719a19",
   "metadata": {},
   "outputs": [
    {
     "name": "stdout",
     "output_type": "stream",
     "text": [
      "Class Attribute\n",
      "Class Attribute\n",
      "1\n",
      "2\n",
      "Class Attribute\n",
      "Class Attribute\n"
     ]
    }
   ],
   "source": [
    "class Sinif:\n",
    "    sinifOzellik = \"Class Attribute\" # class attribute \n",
    "\n",
    "    def __init__(self,a): # constructor\n",
    "        self.a = a\n",
    "        self.ornekOzellik = a # instance attribute\n",
    "        print(Sinif.sinifOzellik)\n",
    "\n",
    "    def ornekMethod(self): # instance Method\n",
    "        print(self.a)\n",
    "\n",
    "    @classmethod \n",
    "    def sinifMethod(cls): # class method\n",
    "        print(cls.sinifOzellik)\n",
    "\n",
    "\n",
    "obj1 = Sinif(1)\n",
    "obj2 = Sinif(2)\n",
    "obj1.ornekMethod()\n",
    "obj2.ornekMethod()\n",
    "obj1.sinifMethod()\n",
    "obj2.sinifMethod()"
   ]
  },
  {
   "cell_type": "code",
   "execution_count": 7,
   "id": "ff21d3ee",
   "metadata": {},
   "outputs": [
    {
     "name": "stdout",
     "output_type": "stream",
     "text": [
      "##############################\n",
      "Üçgen\n",
      "3\n",
      "İç Açı Toplamı 180\n",
      "##############################\n",
      "##############################\n",
      "Kare\n",
      "4\n",
      "İç Açı Toplamı 360\n",
      "##############################\n"
     ]
    }
   ],
   "source": [
    "class Cokgen:\n",
    "    tip = \"Cokgen\"\n",
    "    def __init__(self,adi,kenarsayisi,*args,**kwargs):\n",
    "        self.adi = adi\n",
    "        self.kenarsayisi = kenarsayisi\n",
    "\n",
    "    def bilgiVer(self):\n",
    "        print(\"#\"*30)\n",
    "        print(self.adi)\n",
    "        print(self.kenarsayisi)\n",
    "        print(f\"İç Açı Toplamı {(self.kenarsayisi-2)*180}\")\n",
    "        print(\"#\"*30)\n",
    "\n",
    "\n",
    "ucgen = Cokgen(\"Üçgen\",3)\n",
    "kare = Cokgen(\"Kare\",4)\n",
    "ucgen.bilgiVer()\n",
    "kare.bilgiVer()"
   ]
  },
  {
   "cell_type": "code",
   "execution_count": null,
   "id": "a67f5651",
   "metadata": {},
   "outputs": [],
   "source": []
  }
 ],
 "metadata": {
  "kernelspec": {
   "display_name": "Python 3",
   "language": "python",
   "name": "python3"
  },
  "language_info": {
   "codemirror_mode": {
    "name": "ipython",
    "version": 3
   },
   "file_extension": ".py",
   "mimetype": "text/x-python",
   "name": "python",
   "nbconvert_exporter": "python",
   "pygments_lexer": "ipython3",
   "version": "3.12.10"
  }
 },
 "nbformat": 4,
 "nbformat_minor": 5
}
