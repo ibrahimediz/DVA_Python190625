{
 "cells": [
  {
   "cell_type": "markdown",
   "id": "fae75cd7",
   "metadata": {},
   "source": [
    "# Hata Ayılama\n",
    "* try\n",
    "* except\n",
    "* exception hierarchy\n",
    "* raise\n",
    "* finally\n",
    "* else"
   ]
  },
  {
   "cell_type": "code",
   "execution_count": 5,
   "id": "52deb647",
   "metadata": {},
   "outputs": [
    {
     "ename": "ValueError",
     "evalue": "invalid literal for int() with base 10: 'a'",
     "output_type": "error",
     "traceback": [
      "\u001b[0;31m---------------------------------------------------------------------------\u001b[0m",
      "\u001b[0;31mValueError\u001b[0m                                Traceback (most recent call last)",
      "Cell \u001b[0;32mIn[5], line 1\u001b[0m\n\u001b[0;32m----> 1\u001b[0m a \u001b[38;5;241m=\u001b[39m \u001b[38;5;28;43mint\u001b[39;49m\u001b[43m(\u001b[49m\u001b[38;5;28;43minput\u001b[39;49m\u001b[43m(\u001b[49m\u001b[38;5;124;43m\"\u001b[39;49m\u001b[38;5;124;43m1. Sayıyı Giriniz:\u001b[39;49m\u001b[38;5;124;43m\"\u001b[39;49m\u001b[43m)\u001b[49m\u001b[43m)\u001b[49m\n\u001b[1;32m      2\u001b[0m b \u001b[38;5;241m=\u001b[39m \u001b[38;5;28mint\u001b[39m(\u001b[38;5;28minput\u001b[39m(\u001b[38;5;124m\"\u001b[39m\u001b[38;5;124m2. Sayıyı Giriniz:\u001b[39m\u001b[38;5;124m\"\u001b[39m))\n\u001b[1;32m      3\u001b[0m \u001b[38;5;28mprint\u001b[39m(a\u001b[38;5;241m/\u001b[39mb) \u001b[38;5;66;03m# ValueError,ZeroDivisionError\u001b[39;00m\n",
      "\u001b[0;31mValueError\u001b[0m: invalid literal for int() with base 10: 'a'"
     ]
    }
   ],
   "source": [
    "a = int(input(\"1. Sayıyı Giriniz:\"))\n",
    "b = int(input(\"2. Sayıyı Giriniz:\"))\n",
    "print(a/b) # ValueError,ZeroDivisionError\n",
    "print(\"Program Çalışmaya Devam Eder\")"
   ]
  },
  {
   "cell_type": "markdown",
   "id": "578c2633",
   "metadata": {},
   "source": [
    "## try"
   ]
  },
  {
   "cell_type": "code",
   "execution_count": 7,
   "id": "e9941beb",
   "metadata": {},
   "outputs": [
    {
     "name": "stdout",
     "output_type": "stream",
     "text": [
      "Hata Oluştu\n",
      "Program Çalışmaya Devam Eder\n"
     ]
    }
   ],
   "source": [
    "try:\n",
    "    a = int(input(\"1. Sayıyı Giriniz:\"))\n",
    "    b = int(input(\"2. Sayıyı Giriniz:\"))\n",
    "    print(a/b) # ValueError,ZeroDivisionError\n",
    "except:\n",
    "    print(\"Hata Oluştu\")\n",
    "print(\"Program Çalışmaya Devam Eder\")"
   ]
  },
  {
   "cell_type": "code",
   "execution_count": 9,
   "id": "ef0255b2",
   "metadata": {},
   "outputs": [
    {
     "name": "stdout",
     "output_type": "stream",
     "text": [
      "Hata Oluştu division by zero\n",
      "Program Çalışmaya Devam Eder\n"
     ]
    }
   ],
   "source": [
    "try:\n",
    "    a = int(input(\"1. Sayıyı Giriniz:\"))\n",
    "    b = int(input(\"2. Sayıyı Giriniz:\"))\n",
    "    print(a/b) # ValueError,ZeroDivisionError\n",
    "except Exception as hata: ##########\n",
    "    print(\"Hata Oluştu\",hata)\n",
    "print(\"Program Çalışmaya Devam Eder\")"
   ]
  },
  {
   "cell_type": "markdown",
   "id": "36160f7f",
   "metadata": {},
   "source": [
    "## Exception"
   ]
  },
  {
   "cell_type": "code",
   "execution_count": 11,
   "id": "5ef7a4a9",
   "metadata": {},
   "outputs": [
    {
     "name": "stdout",
     "output_type": "stream",
     "text": [
      "Sıfıra Bölme Hatası\n",
      "Program Çalışmaya Devam Eder\n"
     ]
    }
   ],
   "source": [
    "try:\n",
    "    a = int(input(\"1. Sayıyı Giriniz:\"))\n",
    "    b = int(input(\"2. Sayıyı Giriniz:\"))\n",
    "    print(a/b) # ValueError,ZeroDivisionError\n",
    "except ValueError:\n",
    "    print(\"Hatalı Değer Girildi\")\n",
    "except ZeroDivisionError:\n",
    "    print(\"Sıfıra Bölme Hatası\")\n",
    "except Exception as hata: ##########\n",
    "    print(\"Hata Oluştu\",hata)\n",
    "print(\"Program Çalışmaya Devam Eder\")"
   ]
  },
  {
   "cell_type": "code",
   "execution_count": 12,
   "id": "b42ce70a",
   "metadata": {},
   "outputs": [
    {
     "name": "stdout",
     "output_type": "stream",
     "text": [
      "Hata Oluştu invalid literal for int() with base 10: 'a'\n",
      "Program Çalışmaya Devam Eder\n"
     ]
    }
   ],
   "source": [
    "try:\n",
    "    a = int(input(\"1. Sayıyı Giriniz:\"))\n",
    "    b = int(input(\"2. Sayıyı Giriniz:\"))\n",
    "    print(a/b) # ValueError,ZeroDivisionError\n",
    "except Exception as hata: ##########\n",
    "    print(\"Hata Oluştu\",hata)\n",
    "except ValueError:\n",
    "    print(\"Hatalı Değer Girildi\")\n",
    "except ZeroDivisionError:\n",
    "    print(\"Sıfıra Bölme Hatası\")\n",
    "print(\"Program Çalışmaya Devam Eder\")"
   ]
  },
  {
   "cell_type": "markdown",
   "id": "f927aed0",
   "metadata": {},
   "source": [
    "## Exception Hierarchy"
   ]
  },
  {
   "cell_type": "markdown",
   "id": "2b89766a",
   "metadata": {},
   "source": [
    "<pre><span></span>BaseException\n",
    " ├── BaseExceptionGroup\n",
    " ├── GeneratorExit\n",
    " ├── KeyboardInterrupt\n",
    " ├── SystemExit\n",
    " └── Exception\n",
    "      ├── ArithmeticError\n",
    "      │    ├── FloatingPointError\n",
    "      │    ├── OverflowError\n",
    "      │    └── ZeroDivisionError\n",
    "      ├── AssertionError\n",
    "      ├── AttributeError\n",
    "      ├── BufferError\n",
    "      ├── EOFError\n",
    "      ├── ExceptionGroup [BaseExceptionGroup]\n",
    "      ├── ImportError\n",
    "      │    └── ModuleNotFoundError\n",
    "      ├── LookupError\n",
    "      │    ├── IndexError\n",
    "      │    └── KeyError\n",
    "      ├── MemoryError\n",
    "      ├── NameError\n",
    "      │    └── UnboundLocalError\n",
    "      ├── OSError\n",
    "      │    ├── BlockingIOError\n",
    "      │    ├── ChildProcessError\n",
    "      │    ├── ConnectionError\n",
    "      │    │    ├── BrokenPipeError\n",
    "      │    │    ├── ConnectionAbortedError\n",
    "      │    │    ├── ConnectionRefusedError\n",
    "      │    │    └── ConnectionResetError\n",
    "      │    ├── FileExistsError\n",
    "      │    ├── FileNotFoundError\n",
    "      │    ├── InterruptedError\n",
    "      │    ├── IsADirectoryError\n",
    "      │    ├── NotADirectoryError\n",
    "      │    ├── PermissionError\n",
    "      │    ├── ProcessLookupError\n",
    "      │    └── TimeoutError\n",
    "      ├── ReferenceError\n",
    "      ├── RuntimeError\n",
    "      │    ├── NotImplementedError\n",
    "      │    ├── PythonFinalizationError\n",
    "      │    └── RecursionError\n",
    "      ├── StopAsyncIteration\n",
    "      ├── StopIteration\n",
    "      ├── SyntaxError\n",
    "      │    └── IndentationError\n",
    "      │         └── TabError\n",
    "      ├── SystemError\n",
    "      ├── TypeError\n",
    "      ├── ValueError\n",
    "      │    └── UnicodeError\n",
    "      │         ├── UnicodeDecodeError\n",
    "      │         ├── UnicodeEncodeError\n",
    "      │         └── UnicodeTranslateError\n",
    "      └── Warning\n",
    "           ├── BytesWarning\n",
    "           ├── DeprecationWarning\n",
    "           ├── EncodingWarning\n",
    "           ├── FutureWarning\n",
    "           ├── ImportWarning\n",
    "           ├── PendingDeprecationWarning\n",
    "           ├── ResourceWarning\n",
    "           ├── RuntimeWarning\n",
    "           ├── SyntaxWarning\n",
    "           ├── UnicodeWarning\n",
    "           └── UserWarning\n",
    "</pre>"
   ]
  },
  {
   "cell_type": "markdown",
   "id": "aa774f45",
   "metadata": {},
   "source": [
    "## raise"
   ]
  },
  {
   "cell_type": "code",
   "execution_count": 16,
   "id": "cdbb92ac",
   "metadata": {},
   "outputs": [
    {
     "name": "stdout",
     "output_type": "stream",
     "text": [
      "Sıfıra Bölme Hatası: Sıfırı Hangi Sayıya Bölmek İstersin\n",
      "Program Çalışmaya Devam Eder\n"
     ]
    }
   ],
   "source": [
    "def bolme():\n",
    "    a = int(input(\"1. Sayıyı Giriniz:\"))\n",
    "    b = int(input(\"2. Sayıyı Giriniz:\"))\n",
    "    if a == 0:\n",
    "        raise ZeroDivisionError(\"Sıfırı Hangi Sayıya Bölmek İstersin\")\n",
    "    print(a/b) # ValueError,ZeroDivisionError\n",
    "\n",
    "try:\n",
    "    bolme()\n",
    "except ValueError:\n",
    "    print(\"Hatalı Değer Girildi\")\n",
    "except ZeroDivisionError as hata:\n",
    "    print(\"Sıfıra Bölme Hatası:\",hata)\n",
    "except Exception as hata: ##########\n",
    "    print(\"Hata Oluştu\",hata)\n",
    "print(\"Program Çalışmaya Devam Eder\")"
   ]
  },
  {
   "cell_type": "code",
   "execution_count": 25,
   "id": "3211e992",
   "metadata": {},
   "outputs": [
    {
     "name": "stdout",
     "output_type": "stream",
     "text": [
      "Hatalı Değer Girildi\n",
      "Try Except Bloğundan Çıkıldı\n",
      "Program Çalışmaya Devam Eder\n"
     ]
    }
   ],
   "source": [
    "def bolme():\n",
    "    a = int(input(\"1. Sayıyı Giriniz:\"))\n",
    "    b = int(input(\"2. Sayıyı Giriniz:\"))\n",
    "    if a == 0:\n",
    "        raise ZeroDivisionError(\"Sıfırı Hangi Sayıya Bölmek İstersin\")\n",
    "    # print(a/b) # ValueError,ZeroDivisionError\n",
    "    return a/b\n",
    "\n",
    "try:\n",
    "    print(bolme())\n",
    "except ValueError:\n",
    "    print(\"Hatalı Değer Girildi\")\n",
    "except ZeroDivisionError as hata:\n",
    "    print(\"Sıfıra Bölme Hatası:\",hata)\n",
    "except Exception as hata: ##########\n",
    "    print(\"Hata Oluştu\",hata)\n",
    "finally:\n",
    "    print(\"Try Except Bloğundan Çıkıldı\")\n",
    "print(\"Program Çalışmaya Devam Eder\")"
   ]
  },
  {
   "cell_type": "code",
   "execution_count": 22,
   "id": "93a2056b",
   "metadata": {},
   "outputs": [],
   "source": [
    "def fonk():\n",
    "    try:\n",
    "        sonuc = bolme()\n",
    "        return sonuc \n",
    "    except ValueError:\n",
    "        print(\"Hatalı Değer Girildi\")\n",
    "    except ZeroDivisionError as hata:\n",
    "        print(\"Sıfıra Bölme Hatası:\",hata)\n",
    "    except Exception as hata: ##########\n",
    "        print(\"Hata Oluştu\",hata)\n",
    "    finally:\n",
    "        print(\"Try Except Bloğundan Çıkıldı\")\n",
    "    print(\"Program Çalışmaya Devam Eder\")"
   ]
  },
  {
   "cell_type": "code",
   "execution_count": 23,
   "id": "1a2658ad",
   "metadata": {},
   "outputs": [
    {
     "name": "stdout",
     "output_type": "stream",
     "text": [
      "Try Except Bloğundan Çıkıldı\n"
     ]
    },
    {
     "data": {
      "text/plain": [
       "2.5"
      ]
     },
     "execution_count": 23,
     "metadata": {},
     "output_type": "execute_result"
    }
   ],
   "source": [
    "fonk()"
   ]
  },
  {
   "cell_type": "code",
   "execution_count": 28,
   "id": "d7215368",
   "metadata": {},
   "outputs": [
    {
     "name": "stdout",
     "output_type": "stream",
     "text": [
      "Sıfıra Bölme Hatası\n",
      "Program Çalışmaya Devam Eder\n"
     ]
    }
   ],
   "source": [
    "try:\n",
    "    a = int(input(\"1. Sayıyı Giriniz:\"))\n",
    "    b = int(input(\"2. Sayıyı Giriniz:\"))\n",
    "except ValueError:\n",
    "    print(\"Hatalı Değer Girildi\")\n",
    "else:\n",
    "    try:\n",
    "        print(a/b) # ValueError,ZeroDivisionError\n",
    "    except ZeroDivisionError:\n",
    "        print(\"Sıfıra Bölme Hatası\")\n",
    "    except Exception as hata: ##########\n",
    "        print(\"Hata Oluştu\",hata)\n",
    "print(\"Program Çalışmaya Devam Eder\")"
   ]
  },
  {
   "cell_type": "code",
   "execution_count": null,
   "id": "10547e24",
   "metadata": {},
   "outputs": [],
   "source": []
  }
 ],
 "metadata": {
  "kernelspec": {
   "display_name": "Python 3",
   "language": "python",
   "name": "python3"
  },
  "language_info": {
   "codemirror_mode": {
    "name": "ipython",
    "version": 3
   },
   "file_extension": ".py",
   "mimetype": "text/x-python",
   "name": "python",
   "nbconvert_exporter": "python",
   "pygments_lexer": "ipython3",
   "version": "3.12.1"
  }
 },
 "nbformat": 4,
 "nbformat_minor": 5
}
