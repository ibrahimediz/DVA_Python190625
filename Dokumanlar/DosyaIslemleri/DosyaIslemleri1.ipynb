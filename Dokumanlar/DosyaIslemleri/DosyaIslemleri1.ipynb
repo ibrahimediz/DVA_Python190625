{
 "cells": [
  {
   "cell_type": "markdown",
   "id": "56a9041a",
   "metadata": {},
   "source": [
    "# Dosya İşlemleri\n",
    "* full path - relative path\n",
    "* open fonksiyonu\n",
    "* dosya açma modları\n",
    "* encoding\n",
    "* with kalıbı"
   ]
  },
  {
   "cell_type": "code",
   "execution_count": null,
   "id": "0533f274",
   "metadata": {},
   "outputs": [],
   "source": [
    "# /Users/ibrahimediz/Documents/Github/DVA_Python190625/Dokumanlar/DosyaIslemleri/ornekic.csv ====> Absolute path\n",
    "# Dokumanlar/DosyaIslemleri/ornekic.csv =====> Relative path"
   ]
  },
  {
   "cell_type": "code",
   "execution_count": 6,
   "id": "54c4a734",
   "metadata": {},
   "outputs": [],
   "source": [
    "dosya = open(\"../../ornek.csv\")"
   ]
  },
  {
   "cell_type": "code",
   "execution_count": 7,
   "id": "fdb416b1",
   "metadata": {},
   "outputs": [
    {
     "data": {
      "text/plain": [
       "'/'"
      ]
     },
     "execution_count": 7,
     "metadata": {},
     "output_type": "execute_result"
    }
   ],
   "source": [
    "import os\n",
    "os.sep"
   ]
  },
  {
   "cell_type": "code",
   "execution_count": 11,
   "id": "ef839501",
   "metadata": {},
   "outputs": [
    {
     "data": {
      "text/plain": [
       "'../../ornek.csv'"
      ]
     },
     "execution_count": 11,
     "metadata": {},
     "output_type": "execute_result"
    }
   ],
   "source": [
    "import os\n",
    "adres = \"..\",\"..\",\"ornek.csv\"\n",
    "os.path.join(*adres)"
   ]
  },
  {
   "cell_type": "code",
   "execution_count": 18,
   "id": "d1724511",
   "metadata": {},
   "outputs": [
    {
     "data": {
      "text/plain": [
       "<_io.TextIOWrapper name='/Users/ibrahimediz/Documents/Github/DVA_Python190625/ornek.csv' mode='r' encoding='UTF-8'>"
      ]
     },
     "execution_count": 18,
     "metadata": {},
     "output_type": "execute_result"
    }
   ],
   "source": [
    "import pathlib as pt\n",
    "open(pt.Path(\".\").absolute().parent.parent/\"ornek.csv\")"
   ]
  },
  {
   "cell_type": "code",
   "execution_count": 19,
   "id": "dc71138c",
   "metadata": {},
   "outputs": [
    {
     "data": {
      "text/plain": [
       "\"Merhaba Dünya;74;[2, 3, 4, 1, '4324']\\nMerhaba Dünya;74;[2, 3, 4, 1, '4324']\\nMerhaba Dünya;74;[2, 3, 4, 1, '4324']\\nMerhaba Dünya;74;[2, 3, 4, 1, '4324']\\nMerhaba Dünya;74;[2, 3, 4, 1, '4324']\\nMerhaba Dünya;74;[2, 3, 4, 1, '4324']\\nMerhaba Dünya;74;[2, 3, 4, 1, '4324']\\nMerhaba Dünya;74;[2, 3, 4, 1, '4324']\\n\""
      ]
     },
     "execution_count": 19,
     "metadata": {},
     "output_type": "execute_result"
    }
   ],
   "source": [
    "# adres / \"Dokumanlar\" / \"DosyaIslemleri\" / \"ornekic.csv\"\n",
    "dosya= open(pt.Path(\".\").absolute().parent.parent/\"ornek.csv\")\n",
    "dosya.read() # str\n"
   ]
  },
  {
   "cell_type": "code",
   "execution_count": 24,
   "id": "5623b1ed",
   "metadata": {},
   "outputs": [
    {
     "name": "stdout",
     "output_type": "stream",
     "text": [
      "Merhaba Dünya;74;[2, 3, 4, 1, '4324']\n",
      "Merhaba Dünya;74;[2, 3, 4, 1, '12']\n",
      "Merhaba Dünya;74;[2, 3, 4, 1, '13']\n",
      "Merhaba Dünya;74;[2, 3, 4, 1, '14']\n",
      "Merhaba Dünya;74;[2, 3, 4, 1, '15']\n"
     ]
    }
   ],
   "source": [
    "# adres / \"Dokumanlar\" / \"DosyaIslemleri\" / \"ornekic.csv\"\n",
    "dosya= open(pt.Path(\".\").absolute().parent.parent/\"ornek.csv\")\n",
    "print(dosya.readline(),end=\"\") # str\n",
    "print(dosya.readline(),end=\"\") # str\n",
    "print(dosya.readline(),end=\"\") # str\n",
    "print(dosya.readline(),end=\"\") # str\n",
    "print(dosya.readline(),end=\"\") # str"
   ]
  },
  {
   "cell_type": "code",
   "execution_count": 25,
   "id": "9b7275b4",
   "metadata": {},
   "outputs": [
    {
     "data": {
      "text/plain": [
       "\"Merhaba Dünya;74;[2, 3, 4, 1, '4324']\\nMe\""
      ]
     },
     "execution_count": 25,
     "metadata": {},
     "output_type": "execute_result"
    }
   ],
   "source": [
    "dosya= open(pt.Path(\".\").absolute().parent.parent/\"ornek.csv\")\n",
    "dosya.read(40) # str\n"
   ]
  },
  {
   "cell_type": "code",
   "execution_count": 29,
   "id": "d3b6e173",
   "metadata": {},
   "outputs": [
    {
     "name": "stdout",
     "output_type": "stream",
     "text": [
      "Merhaba Dünya;74;[2, 3, 4, 1, '4324']\n",
      "Me\n",
      "rhaba Dünya;74;[2, 3, 4, 1, '12']\n"
     ]
    }
   ],
   "source": [
    "dosya= open(pt.Path(\".\").absolute().parent.parent/\"ornek.csv\")\n",
    "print(dosya.read(40)) # str)\n",
    "print(dosya.readline(10),end=\"\") # str\n",
    "print(dosya.readline(50),end=\"\") # str"
   ]
  },
  {
   "cell_type": "code",
   "execution_count": 31,
   "id": "d4315d1c",
   "metadata": {},
   "outputs": [
    {
     "name": "stdout",
     "output_type": "stream",
     "text": [
      "############################## 1\n",
      "Merhaba Dünya;74;[2, 3, 4, 1, '4324']\n",
      "Merhaba Dünya;74;[2, 3, 4, 1, '12']\n",
      "Merhaba Dünya;74;[2, 3, 4, 1, '13']\n",
      "Merhaba Dünya;74;[2, 3, 4, 1, '14']\n",
      "Merhaba Dünya;74;[2, 3, 4, 1, '15']\n",
      "Merhaba Dünya;74;[2, 3, 4, 1, '16']\n",
      "Merhaba Dünya;74;[2, 3, 4, 1, '17']\n",
      "Merhaba Dünya;74;[2, 3, 4, 1, '18']\n",
      "\n",
      "##############################\n",
      "############################## 2\n",
      "\n",
      "##############################\n"
     ]
    }
   ],
   "source": [
    "dosya= open(pt.Path(\".\").absolute().parent.parent/\"ornek.csv\")\n",
    "##### 1\n",
    "print(\"#\"*30,\"1\")\n",
    "print(dosya.read()) # str)\n",
    "print(\"#\"*30)\n",
    "print(\"#\"*30,\"2\")\n",
    "print(dosya.read())\n",
    "print(\"#\"*30)"
   ]
  },
  {
   "cell_type": "code",
   "execution_count": 33,
   "id": "714539d9",
   "metadata": {},
   "outputs": [
    {
     "name": "stdout",
     "output_type": "stream",
     "text": [
      "############################## 1\n",
      "Merhaba Dünya;74;[2, 3, 4, 1, '4324']\n",
      "Merhaba Dünya;74;[2, 3, 4, 1, '12']\n",
      "Merhaba Dünya;74;[2, 3, 4, 1, '13']\n",
      "Merhaba Dünya;74;[2, 3, 4, 1, '14']\n",
      "Merhaba Dünya;74;[2, 3, 4, 1, '15']\n",
      "Merhaba Dünya;74;[2, 3, 4, 1, '16']\n",
      "Merhaba Dünya;74;[2, 3, 4, 1, '17']\n",
      "Merhaba Dünya;74;[2, 3, 4, 1, '18']\n",
      "\n",
      "##############################\n",
      "############################## 2\n",
      "Merhaba Dünya;74;[2, 3, 4, 1, '4324']\n",
      "Merhaba Dünya;74;[2, 3, 4, 1, '12']\n",
      "Merhaba Dünya;74;[2, 3, 4, 1, '13']\n",
      "Merhaba Dünya;74;[2, 3, 4, 1, '14']\n",
      "Merhaba Dünya;74;[2, 3, 4, 1, '15']\n",
      "Merhaba Dünya;74;[2, 3, 4, 1, '16']\n",
      "Merhaba Dünya;74;[2, 3, 4, 1, '17']\n",
      "Merhaba Dünya;74;[2, 3, 4, 1, '18']\n",
      "\n",
      "##############################\n"
     ]
    }
   ],
   "source": [
    "dosya= open(pt.Path(\".\").absolute().parent.parent/\"ornek.csv\")\n",
    "##### 1\n",
    "print(\"#\"*30,\"1\")\n",
    "print(dosya.read()) # str)\n",
    "print(\"#\"*30)\n",
    "#### 2\n",
    "print(\"#\"*30,\"2\")\n",
    "dosya.seek(0)\n",
    "print(dosya.read())\n",
    "print(\"#\"*30)"
   ]
  },
  {
   "cell_type": "code",
   "execution_count": 34,
   "id": "fdcbbd25",
   "metadata": {},
   "outputs": [
    {
     "name": "stdout",
     "output_type": "stream",
     "text": [
      "############################## 1\n",
      "Merhaba Dünya;74;[2, 3, 4, 1, '4324']\n",
      "Merhaba Dünya;74;[2, 3, 4, 1, '12']\n",
      "Merhaba Dünya;74;[2, 3, 4, 1, '13']\n",
      "Merhaba Dünya;74;[2, 3, 4, 1, '14']\n",
      "Merhaba Dünya;74;[2, 3, 4, 1, '15']\n",
      "Merhaba Dünya;74;[2, 3, 4, 1, '16']\n",
      "Merhaba Dünya;74;[2, 3, 4, 1, '17']\n",
      "Merhaba Dünya;74;[2, 3, 4, 1, '18']\n",
      "\n",
      "##############################\n",
      "298\n",
      "############################## 2\n",
      "Merhaba Dünya;74;[2, 3, 4, 1, '4324']\n",
      "Merhaba Dünya;74;[2, 3, 4, 1, '12']\n",
      "Merhaba Dünya;74;[2, 3, 4, 1, '13']\n",
      "Merhaba Dünya;74;[2, 3, 4, 1, '14']\n",
      "Merhaba Dünya;74;[2, 3, 4, 1, '15']\n",
      "Merhaba Dünya;74;[2, 3, 4, 1, '16']\n",
      "Merhaba Dünya;74;[2, 3, 4, 1, '17']\n",
      "Merhaba Dünya;74;[2, 3, 4, 1, '18']\n",
      "\n",
      "##############################\n"
     ]
    }
   ],
   "source": [
    "dosya= open(pt.Path(\".\").absolute().parent.parent/\"ornek.csv\")\n",
    "##### 1\n",
    "print(\"#\"*30,\"1\")\n",
    "print(dosya.read()) # str)\n",
    "print(\"#\"*30)\n",
    "print(dosya.tell())\n",
    "#### 2\n",
    "print(\"#\"*30,\"2\")\n",
    "dosya.seek(0)\n",
    "print(dosya.read())\n",
    "print(\"#\"*30)"
   ]
  },
  {
   "cell_type": "code",
   "execution_count": 35,
   "id": "100ab89d",
   "metadata": {},
   "outputs": [
    {
     "data": {
      "text/plain": [
       "[\"Merhaba Dünya;74;[2, 3, 4, 1, '4324']\\n\",\n",
       " \"Merhaba Dünya;74;[2, 3, 4, 1, '12']\\n\",\n",
       " \"Merhaba Dünya;74;[2, 3, 4, 1, '13']\\n\",\n",
       " \"Merhaba Dünya;74;[2, 3, 4, 1, '14']\\n\",\n",
       " \"Merhaba Dünya;74;[2, 3, 4, 1, '15']\\n\",\n",
       " \"Merhaba Dünya;74;[2, 3, 4, 1, '16']\\n\",\n",
       " \"Merhaba Dünya;74;[2, 3, 4, 1, '17']\\n\",\n",
       " \"Merhaba Dünya;74;[2, 3, 4, 1, '18']\\n\"]"
      ]
     },
     "execution_count": 35,
     "metadata": {},
     "output_type": "execute_result"
    }
   ],
   "source": [
    "dosya= open(pt.Path(\".\").absolute().parent.parent/\"ornek.csv\")\n",
    "dosya.readlines()"
   ]
  },
  {
   "cell_type": "markdown",
   "id": "76682398",
   "metadata": {},
   "source": [
    "## dosya kipleri\n",
    "* r => Okuma  \n",
    "* w => yazma !!! dosya içeriği (var ise) silinir\n",
    "* a => ekleme !!! cursor en sonda açılır. Dosya yok ise oluşturulur\n",
    "* x => oluşturma !!! dosya var ise hata verir \n",
    "* r+,w+,a+,x+ Hem okuma hem yazma\n"
   ]
  },
  {
   "cell_type": "markdown",
   "id": "cdfca493",
   "metadata": {},
   "source": [
    "### binary dosyalar için \n",
    "* rb => Okuma  \n",
    "* wb => yazma !!! dosya içeriği (var ise) silinir\n",
    "* ab => ekleme !!! cursor en sonda açılır. Dosya yok ise oluşturulur\n",
    "* xb => oluşturma !!! dosya var ise hata verir \n",
    "* rb+,wb+,ab+,xb+ Hem okuma hem yazma"
   ]
  },
  {
   "cell_type": "code",
   "execution_count": 37,
   "id": "8c782837",
   "metadata": {},
   "outputs": [],
   "source": [
    "adres = \"ornekic.csv\"\n",
    "dosya= open(adres,\"w+\")"
   ]
  },
  {
   "cell_type": "code",
   "execution_count": 43,
   "id": "cec8776e",
   "metadata": {},
   "outputs": [],
   "source": [
    "adres = \"ornekic.csv\"\n",
    "dosya= open(adres,\"a+\")\n",
    "dosya.writelines(\"aliş;veli;123;ankara\\n\")\n",
    "dosya.flush()"
   ]
  },
  {
   "cell_type": "code",
   "execution_count": 42,
   "id": "11f55074",
   "metadata": {},
   "outputs": [],
   "source": [
    "adres = \"ornekic2.csv\"\n",
    "dosya= open(adres,\"x+\")\n",
    "dosya.writelines(\"ali;veli;123;ankara\\n\")\n",
    "dosya.flush()"
   ]
  },
  {
   "cell_type": "code",
   "execution_count": 45,
   "id": "5fcefee0",
   "metadata": {},
   "outputs": [],
   "source": [
    "adres = \"ornekic.csv\"\n",
    "dosya= open(adres,\"a+\",encoding=\"utf-8\")\n",
    "dosya.writelines(\"aliş;veli;123;ankara\\n\")\n",
    "dosya.flush()"
   ]
  },
  {
   "cell_type": "code",
   "execution_count": null,
   "id": "486bfb97",
   "metadata": {},
   "outputs": [],
   "source": []
  }
 ],
 "metadata": {
  "kernelspec": {
   "display_name": "Python 3",
   "language": "python",
   "name": "python3"
  },
  "language_info": {
   "codemirror_mode": {
    "name": "ipython",
    "version": 3
   },
   "file_extension": ".py",
   "mimetype": "text/x-python",
   "name": "python",
   "nbconvert_exporter": "python",
   "pygments_lexer": "ipython3",
   "version": "3.12.1"
  }
 },
 "nbformat": 4,
 "nbformat_minor": 5
}
